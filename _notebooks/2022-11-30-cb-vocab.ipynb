{
 "cells": [
  {
   "cell_type": "markdown",
   "metadata": {},
   "source": [
    "# College Board Vocab\n",
    "> Important terms\n",
    "\n",
    "- toc: false \n",
    "- badges: true\n",
    "- comments: true\n",
    "- categories: [jupyter]"
   ]
  },
  {
   "cell_type": "markdown",
   "metadata": {},
   "source": [
    "# Unit 1 Primitives\n",
    "- **Casting**: changing one data type to another data type (ie. int to double, char to String)\n",
    "    - In division, the result will be *cast* to a float\n",
    "    - In truncating or rounding, an ``int`` will be cast to a ``float``\n",
    "\n",
    "- **Wrapper Class**: a way to use primitive data types as an object (int => Integer, boolean => Boolean)\n",
    "\n",
    "Wrapper classes can be used to create in ArrayList, which cannot store primitive data types: "
   ]
  },
  {
   "cell_type": "code",
   "execution_count": null,
   "metadata": {},
   "outputs": [],
   "source": [
    "ArrayList<Integer> numbers = new ArrayList<Integer>(); "
   ]
  },
  {
   "cell_type": "markdown",
   "metadata": {},
   "source": [
    "Since Wrapper classes can create objects, we can run methods on them:"
   ]
  },
  {
   "cell_type": "code",
   "execution_count": null,
   "metadata": {},
   "outputs": [],
   "source": [
    "Integer myInt = 5;\n",
    "\n",
    "System.out.println(myInt.intValue()); // 5\n",
    "\n",
    "System.out.println(myInt.toString()); // \"5\"\n",
    "\n",
    "System.out.println(myInt.toString().length()); // 1"
   ]
  },
  {
   "cell_type": "markdown",
   "metadata": {},
   "source": [
    "- **Concatenation**: combining two strings to form a new string"
   ]
  },
  {
   "cell_type": "code",
   "execution_count": null,
   "metadata": {},
   "outputs": [],
   "source": [
    "String str1 = \"Hello\";\n",
    "String str2 = \"World!\";\n",
    "\n",
    "System.out.println(str1 + \" \" + str2); // \"Hello World!\""
   ]
  },
  {
   "cell_type": "markdown",
   "metadata": {},
   "source": [
    "Concatenation also works between mixed types:"
   ]
  },
  {
   "cell_type": "code",
   "execution_count": null,
   "metadata": {},
   "outputs": [],
   "source": [
    "int int1 = 1;\n",
    "String str1 = \"Cat\";\n",
    "\n",
    "System.out.println(int1 + \" \" + str1); // \"1 cat\""
   ]
  },
  {
   "cell_type": "markdown",
   "metadata": {},
   "source": [
    "# Unit 2 - Using Objects\n",
    "\n",
    "### Math class: \n",
    "- The math class can be used to perform operations on numbers"
   ]
  },
  {
   "cell_type": "code",
   "execution_count": null,
   "metadata": {},
   "outputs": [],
   "source": [
    "double x = 25;\n",
    "double y = 9;\n",
    "\n",
    "// find max of the numbers\n",
    "System.out.println(Math.max(x, y));\n",
    "\n",
    "// find square root\n",
    "System.out.println(Math.sqrt(x));\n",
    "\n",
    "// find y to the power of 3\n",
    "System.out.println(Math.pow(y, 3));"
   ]
  },
  {
   "cell_type": "markdown",
   "metadata": {},
   "source": [
    "Java can also be used to generate a random double number greater than or equal to 0.0 and less than 1.0. To increase the range, you can multiply the randomly generated number by "
   ]
  },
  {
   "cell_type": "code",
   "execution_count": null,
   "metadata": {},
   "outputs": [],
   "source": [
    "// generate a random number between 0 and 10\n",
    "int random = (int)(Math.random() * 10);\n",
    "\n",
    "System.out.println(random);"
   ]
  },
  {
   "cell_type": "markdown",
   "metadata": {},
   "source": [
    "# Unit 3: Boolean Expressions and if Statement\n",
    "\n",
    "### Boolean Expressions\n",
    "- an expression that evaluates as either true or false"
   ]
  },
  {
   "cell_type": "code",
   "execution_count": null,
   "metadata": {},
   "outputs": [],
   "source": [
    "1==1;                    // is true, because 1 will always be equal to 1\n",
    "\"paper\" == \"good\";       // is false, because “paper” is not equal to “good”"
   ]
  },
  {
   "cell_type": "markdown",
   "metadata": {},
   "source": [
    "- A **complex boolean expression** combines multiple boolean expressions by joining them with an *and* (``&&``) or *or* (``||``) operator. \n",
    "\n",
    "- **DeMorgan's Laws** help us evaluate complex boolean expressions by showing how to deal with the negation of a conditional\n",
    "    - ``!true`` == ``false``\n",
    "    - ``!false`` == ``true``\n",
    "    - ``!&&`` == ``||``\n",
    "\n",
    "- We can use **truth tables** to organize what a boolean expression will evaluate to.\n",
    "\n",
    "| A | B | A \\|\\| B | \n",
    "|---|---|----------|\n",
    "| T | T | T |\n",
    "| T | F | T |\n",
    "| F | T | T |"
   ]
  },
  {
   "cell_type": "markdown",
   "metadata": {},
   "source": [
    "# Unit 4: Iteration and Loops\n",
    "\n",
    "- **for loop**: will iterate over a block of code while a test condition is true"
   ]
  },
  {
   "cell_type": "code",
   "execution_count": null,
   "metadata": {},
   "outputs": [],
   "source": [
    "for(int i = 0; i<=5; i++) { // starts variable i at 0, will stop after i is 5\n",
    "    System.out.println(i); // prints numbers from 0 to 5\n",
    "}"
   ]
  },
  {
   "cell_type": "markdown",
   "metadata": {},
   "source": [
    "A **for-each** loop can be used to iterate over an array. Syntax:\n",
    "\n",
    "```\n",
    "for(datatype item : array) {\n",
    "    // code\n",
    "}\n",
    "```\n",
    "\n",
    "Example:"
   ]
  },
  {
   "cell_type": "code",
   "execution_count": null,
   "metadata": {},
   "outputs": [],
   "source": [
    "int[] numbers = {0, 1, 2, 3, 5}; // array of integers\n",
    "\n",
    "int sum = 0; // variable to keep track of sum\n",
    "\n",
    "for(int number : numbers) {\n",
    "    sum += number;\n",
    "}\n",
    "\n",
    "System.out.println(sum); // will print sum of all ints in array"
   ]
  },
  {
   "cell_type": "markdown",
   "metadata": {},
   "source": [
    "Say we have a 2d array. We can use a **nested loop** to access its attributes. "
   ]
  },
  {
   "cell_type": "code",
   "execution_count": null,
   "metadata": {},
   "outputs": [],
   "source": [
    "int[][] numbers = {\n",
    "    {0, 0, 0, 0, 0},\n",
    "    {1, 1, 1, 1, 1},\n",
    "};\n",
    "\n",
    "for(int i = 0; i < numbers.length; i++) { // access each row\n",
    "    for(int number : numbers[i]) { // access individual elements of row\n",
    "        System.out.println(number);\n",
    "    }\n",
    "}"
   ]
  },
  {
   "cell_type": "markdown",
   "metadata": {},
   "source": [
    "**While Loops**: Repeat code while boolean expression evaluates to true. \n",
    "- Useful for cases when an infinite loop is needed, such as a menu. \n",
    "\n",
    "```\n",
    "boolean runMenu = true;\n",
    "\n",
    "while(runMenu) {\n",
    "    System.out.println(\"Select an option\");\n",
    "}\n",
    "```"
   ]
  }
 ],
 "metadata": {
  "kernelspec": {
   "display_name": "Java",
   "language": "java",
   "name": "java"
  },
  "language_info": {
   "codemirror_mode": "java",
   "file_extension": ".jshell",
   "mimetype": "text/x-java-source",
   "name": "java",
   "pygments_lexer": "java",
   "version": "11.0.16+8-post-Ubuntu-0ubuntu120.04"
  },
  "orig_nbformat": 4
 },
 "nbformat": 4,
 "nbformat_minor": 2
}
