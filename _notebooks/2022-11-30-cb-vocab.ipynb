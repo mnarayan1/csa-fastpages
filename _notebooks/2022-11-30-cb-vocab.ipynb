{
 "cells": [
  {
   "cell_type": "markdown",
   "metadata": {},
   "source": [
    "# College Board Vocab\n",
    "> Important terms\n",
    "\n",
    "- toc: false \n",
    "- badges: true\n",
    "- comments: true\n",
    "- categories: [jupyter]"
   ]
  },
  {
   "cell_type": "markdown",
   "metadata": {},
   "source": [
    "# Unit 1 Primitives\n",
    "- **Casting**: changing one data type to another data type (ie. int to double, char to String)\n",
    "    - In division, the result will be *cast* to a float\n",
    "    - In truncating or rounding, an ``int`` will be cast to a ``float``\n",
    "\n",
    "- **Wrapper Class**: a way to use primitive data types as an object (int => Integer, boolean => Boolean)\n",
    "\n",
    "Wrapper classes can be used to create in ArrayList, which cannot store primitive data types: "
   ]
  },
  {
   "cell_type": "code",
   "execution_count": null,
   "metadata": {
    "vscode": {
     "languageId": "java"
    }
   },
   "outputs": [],
   "source": [
    "ArrayList<Integer> numbers = new ArrayList<Integer>(); "
   ]
  },
  {
   "cell_type": "markdown",
   "metadata": {},
   "source": [
    "Since Wrapper classes can create objects, we can run methods on them:"
   ]
  },
  {
   "cell_type": "code",
   "execution_count": null,
   "metadata": {
    "vscode": {
     "languageId": "java"
    }
   },
   "outputs": [],
   "source": [
    "Integer myInt = 5;\n",
    "\n",
    "System.out.println(myInt.intValue()); // 5\n",
    "\n",
    "System.out.println(myInt.toString()); // \"5\"\n",
    "\n",
    "System.out.println(myInt.toString().length()); // 1"
   ]
  },
  {
   "cell_type": "markdown",
   "metadata": {},
   "source": [
    "- **Concatenation**: combining two strings to form a new string"
   ]
  },
  {
   "cell_type": "code",
   "execution_count": null,
   "metadata": {
    "vscode": {
     "languageId": "java"
    }
   },
   "outputs": [],
   "source": [
    "String str1 = \"Hello\";\n",
    "String str2 = \"World!\";\n",
    "\n",
    "System.out.println(str1 + \" \" + str2); // \"Hello World!\""
   ]
  },
  {
   "cell_type": "markdown",
   "metadata": {},
   "source": [
    "Concatenation also works between mixed types:"
   ]
  },
  {
   "cell_type": "code",
   "execution_count": null,
   "metadata": {
    "vscode": {
     "languageId": "java"
    }
   },
   "outputs": [],
   "source": [
    "int int1 = 1;\n",
    "String str1 = \"Cat\";\n",
    "\n",
    "System.out.println(int1 + \" \" + str1); // \"1 cat\""
   ]
  },
  {
   "cell_type": "markdown",
   "metadata": {},
   "source": [
    "# Unit 2 - Using Objects\n",
    "\n",
    "### Math class: \n",
    "- The math class can be used to perform operations on numbers"
   ]
  },
  {
   "cell_type": "code",
   "execution_count": null,
   "metadata": {
    "vscode": {
     "languageId": "java"
    }
   },
   "outputs": [],
   "source": [
    "double x = 25;\n",
    "double y = 9;\n",
    "\n",
    "// find max of the numbers\n",
    "System.out.println(Math.max(x, y));\n",
    "\n",
    "// find square root\n",
    "System.out.println(Math.sqrt(x));\n",
    "\n",
    "// find y to the power of 3\n",
    "System.out.println(Math.pow(y, 3));"
   ]
  },
  {
   "cell_type": "markdown",
   "metadata": {},
   "source": [
    "Java can also be used to generate a random double number greater than or equal to 0.0 and less than 1.0. To increase the range, you can multiply the randomly generated number by "
   ]
  },
  {
   "cell_type": "code",
   "execution_count": null,
   "metadata": {
    "vscode": {
     "languageId": "java"
    }
   },
   "outputs": [],
   "source": [
    "// generate a random number between 0 and 10\n",
    "int random = (int)(Math.random() * 10);\n",
    "\n",
    "System.out.println(random);"
   ]
  },
  {
   "cell_type": "markdown",
   "metadata": {},
   "source": [
    "# Unit 3: Boolean Expressions and if Statement\n",
    "\n",
    "### Boolean Expressions\n",
    "- an expression that evaluates as either true or false"
   ]
  },
  {
   "cell_type": "code",
   "execution_count": null,
   "metadata": {
    "vscode": {
     "languageId": "java"
    }
   },
   "outputs": [],
   "source": [
    "1==1;                    // is true, because 1 will always be equal to 1\n",
    "\"paper\" == \"good\";       // is false, because “paper” is not equal to “good”"
   ]
  },
  {
   "cell_type": "markdown",
   "metadata": {},
   "source": [
    "- A **complex boolean expression** combines multiple boolean expressions by joining them with an *and* (``&&``) or *or* (``||``) operator. \n",
    "\n",
    "- **DeMorgan's Laws** help us evaluate complex boolean expressions by showing how to deal with the negation of a conditional\n",
    "    - ``!true`` == ``false``\n",
    "    - ``!false`` == ``true``\n",
    "    - ``!&&`` == ``||``\n",
    "\n",
    "- We can use **truth tables** to organize what a boolean expression will evaluate to.\n",
    "\n",
    "| A | B | A \\|\\| B | \n",
    "|---|---|----------|\n",
    "| T | T | T |\n",
    "| T | F | T |\n",
    "| F | T | T |"
   ]
  },
  {
   "cell_type": "markdown",
   "metadata": {},
   "source": [
    "# Unit 4: Iteration and Loops\n",
    "\n",
    "- **for loop**: will iterate over a block of code while a test condition is true"
   ]
  },
  {
   "cell_type": "code",
   "execution_count": null,
   "metadata": {
    "vscode": {
     "languageId": "java"
    }
   },
   "outputs": [],
   "source": [
    "for(int i = 0; i<=5; i++) { // starts variable i at 0, will stop after i is 5\n",
    "    System.out.println(i); // prints numbers from 0 to 5\n",
    "}"
   ]
  },
  {
   "cell_type": "markdown",
   "metadata": {},
   "source": [
    "A **for-each** loop can be used to iterate over an array. Syntax:\n",
    "\n",
    "```\n",
    "for(datatype item : array) {\n",
    "    // code\n",
    "}\n",
    "```\n",
    "\n",
    "Example:"
   ]
  },
  {
   "cell_type": "code",
   "execution_count": null,
   "metadata": {
    "vscode": {
     "languageId": "java"
    }
   },
   "outputs": [],
   "source": [
    "int[] numbers = {0, 1, 2, 3, 5}; // array of integers\n",
    "\n",
    "int sum = 0; // variable to keep track of sum\n",
    "\n",
    "for(int number : numbers) {\n",
    "    sum += number;\n",
    "}\n",
    "\n",
    "System.out.println(sum); // will print sum of all ints in array"
   ]
  },
  {
   "cell_type": "markdown",
   "metadata": {},
   "source": [
    "Say we have a 2d array. We can use a **nested loop** to access its attributes. "
   ]
  },
  {
   "cell_type": "code",
   "execution_count": null,
   "metadata": {
    "vscode": {
     "languageId": "java"
    }
   },
   "outputs": [],
   "source": [
    "int[][] numbers = {\n",
    "    {0, 0, 0, 0, 0},\n",
    "    {1, 1, 1, 1, 1},\n",
    "};\n",
    "\n",
    "for(int i = 0; i < numbers.length; i++) { // access each row\n",
    "    for(int number : numbers[i]) { // access individual elements of row\n",
    "        System.out.println(number);\n",
    "    }\n",
    "}"
   ]
  },
  {
   "cell_type": "markdown",
   "metadata": {},
   "source": [
    "**While Loops**: Repeat code while boolean expression evaluates to true. \n",
    "- Useful for cases when an infinite loop is needed, such as a menu. \n",
    "\n",
    "```\n",
    "boolean runMenu = true;\n",
    "\n",
    "while(runMenu) {\n",
    "    System.out.println(\"Select an option\");\n",
    "}\n",
    "```\n",
    "\n",
    "**Do-While Loop**: Similar to a whie loop, but will check the condition after the code has been run, which is the opposite of a while loop\n",
    "\n",
    "```\n",
    "do {\n",
    "    // code\n",
    "} while(condition);\n",
    "```"
   ]
  },
  {
   "cell_type": "markdown",
   "metadata": {},
   "source": [
    "# Unit 5: Creating Classes\n",
    "\n",
    "**Constructor**: Sets initial values of an object. There is no return because it initializes object's properties. "
   ]
  },
  {
   "cell_type": "code",
   "execution_count": 1,
   "metadata": {
    "vscode": {
     "languageId": "java"
    }
   },
   "outputs": [
    {
     "name": "stdout",
     "output_type": "stream",
     "text": [
      "5\n"
     ]
    }
   ],
   "source": [
    "public class Number {\n",
    "    int x;\n",
    "\n",
    "    public Number() { //constructor\n",
    "        x = 5;\n",
    "    }\n",
    "}\n",
    "\n",
    "Number newNumber = new Number(); // create instance of number class using the constructor, no arguments are passed\n",
    "\n",
    "System.out.println(newNumber.x);"
   ]
  },
  {
   "cell_type": "markdown",
   "metadata": {},
   "source": [
    "### Getters and Setters\n",
    "- **Accessor Methods**: Or *getters*, they return an object's properties. They are non-void an include a return type.\n",
    "- **Mutator Method**: Or *setters*. Usually a void variable that changes static variables.\n",
    "\n",
    "### Keywords\n",
    "- **this**: refers to instance variables in a class, specific to object instance\n",
    "- **static**: makes a variable or method attached to a class, not an instance of the object. They are not dependent on instance creation. \n",
    "\n",
    "```\n",
    "static void setWheels(int wheels) {\n",
    "    Car.wheels = wheels; // references class, not object\n",
    "}\n",
    "```\n",
    "\n",
    "### Access Modifiers\n",
    "- **Default**: Can access in same class and package, but not in different packages\n",
    "- **Public**: Can access practically everywhere\n",
    "- **Protected**: Cannot access in non-subclass in different package\n",
    "- **Private**: Can *only* access in same class\n",
    "\n",
    "\n",
    "### Testing\n",
    "- **main method**: entry point for executing a Java class, can be used as a **tester method** to verify that object is working as intended\n",
    "- **toString**: will return a string from an object's properties\n",
    "\n",
    "```\n",
    "public String wheelsToString() {\n",
    "    return \"wheels: \" + this.wheels;\n",
    "}\n",
    "```\n",
    "\n",
    "Example:"
   ]
  },
  {
   "cell_type": "code",
   "execution_count": 2,
   "metadata": {
    "vscode": {
     "languageId": "java"
    }
   },
   "outputs": [
    {
     "name": "stdout",
     "output_type": "stream",
     "text": [
      "My lambo has 4 wheels!\n"
     ]
    }
   ],
   "source": [
    "public class Car {\n",
    "    private int wheels; // create wheels attribute, cannot be directly modified outside class due to private\n",
    "\n",
    "    public Car(int wheels) { // initialize number of wheels with constructor\n",
    "        this.wheels = wheels; // accessing wheel instance variable\n",
    "    }\n",
    "\n",
    "    public int getWheels() { // getter, has return type, can be used outside class\n",
    "        return this.wheels; // return wheels attribute for car\n",
    "    }\n",
    "\n",
    "    public void setWheels(int wheels) { // setter, is void and takes an argument, can be used outside class\n",
    "        this.wheels = wheels;\n",
    "    }\n",
    "\n",
    "    public static void main(String[] args) { // static keyword\n",
    "        Car lambo = new Car(4);\n",
    "        System.out.println(\"My lambo has \" + lambo.getWheels() + \" wheels!\"); // using getter and concatenation\n",
    "    }\n",
    "}\n",
    "\n",
    "Car.main(null);"
   ]
  },
  {
   "cell_type": "markdown",
   "metadata": {},
   "source": [
    "- **Inheritance**: An object can inherit the characteristics of a parent object (ie. methods, variables). Must use a **subclass constructor** and the **super keyword**\n",
    "\n",
    "```\n",
    "public class Lambo extends Car{\n",
    "    public Lambo() {\n",
    "        super();\n",
    "    }\n",
    "}\n",
    "\n",
    "```\n",
    "\n",
    "- **method overloading**: having a method with the same name, but different signatures/paramenters\n",
    "\n",
    "```\n",
    "public int sum(int x, int y) {\n",
    "    return x+y;\n",
    "}\n",
    "\n",
    "public static int sum(int x, int y, int z) {\n",
    "    return x + y + z;\n",
    "}\n",
    "```\n",
    "\n",
    "- **abstract class**: a restricted class that cannot be used to create objects, but it can be used as a template by inheriting it\n",
    "- **abstract method**: used in an abstract class, body is specified in the "
   ]
  }
 ],
 "metadata": {
  "kernelspec": {
   "display_name": "Java",
   "language": "java",
   "name": "java"
  },
  "language_info": {
   "codemirror_mode": "java",
   "file_extension": ".jshell",
   "mimetype": "text/x-java-source",
   "name": "Java",
   "pygments_lexer": "java",
   "version": "11.0.16+8-post-Ubuntu-0ubuntu120.04"
  },
  "orig_nbformat": 4
 },
 "nbformat": 4,
 "nbformat_minor": 2
}
