{
 "cells": [
  {
   "attachments": {},
   "cell_type": "markdown",
   "metadata": {},
   "source": [
    "# 66 Question Quiz Corrections\n",
    "> MC\n",
    "\n",
    "- toc: false \n",
    "- badges: true\n",
    "- comments: true\n",
    "- categories: [jupyter]"
   ]
  },
  {
   "attachments": {},
   "cell_type": "markdown",
   "metadata": {},
   "source": [
    "### Skill: 4a\n",
    "> Use test-cases to find errors or validate results\n",
    "\n",
    "**Questions incorrect**: 22 (topic 8.2), 33 (topic 6.4)\n",
    "\n",
    "I need to practice questions relating to 1D and 2D arrays, especially relating to whether certain test cases will work in a program\n",
    "\n",
    "### Skill: 4B\n",
    "> Identify errors in program code\n",
    "\n",
    "**Questions incorrect**: 2 (6.2), 16 (8.2), 36 (9.6), 46 (1.1), 47 (1.1), 52 (5.5), 56 (7.4), 60 (6.4), 63 (6.3)\n",
    "\n",
    "- Unit 1: difference between print and println\n",
    "- Unit 5: fixing mutator methods so they will run/compile correctly\n",
    "- Unit 6: how to modify a loop so that it will iterate over an array correctly\n",
    "- Unit 7: fixing algorithms using ArrayLists\n",
    "- Unit 8: looping through 2d arrays\n",
    "\n",
    "### Skill: 4c\n",
    "> Determine if two or more code segments yield equivalent results\n",
    "\n",
    "**Questions incorrect**: 4 (3.6), 9 (3.4), 10 (3.4), 13 (3.5), 17 (4.3), 18 (3.6), 19 (3.6), 20 (4.2), 53 (10.1)\n",
    "\n",
    "- Unit 3: determining whether boolean expressions are equivalent, applying demorgans law\n",
    "- Unit 4: working with substrings\n",
    "- Unit 10: else if statements, and determining how an else-if statement would be different from only if-statements"
   ]
  }
 ],
 "metadata": {
  "kernelspec": {
   "display_name": "Java",
   "language": "java",
   "name": "java"
  },
  "language_info": {
   "codemirror_mode": "java",
   "file_extension": ".jshell",
   "mimetype": "text/x-java-source",
   "name": "Java",
   "pygments_lexer": "java",
   "version": "11.0.16+8-post-Ubuntu-0ubuntu120.04"
  },
  "orig_nbformat": 4
 },
 "nbformat": 4,
 "nbformat_minor": 2
}
