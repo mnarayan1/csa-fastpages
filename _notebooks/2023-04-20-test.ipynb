{
 "cells": [
  {
   "attachments": {},
   "cell_type": "markdown",
   "metadata": {},
   "source": [
    "# Question 1"
   ]
  },
  {
   "attachments": {},
   "cell_type": "markdown",
   "metadata": {},
   "source": [
    "# Test\n",
    "> 4/20 test\n",
    "\n",
    "- toc: true \n",
    "- badges: true\n",
    "- comments: true\n",
    "- categories: [jupyter]"
   ]
  },
  {
   "cell_type": "code",
   "execution_count": 34,
   "metadata": {
    "vscode": {
     "languageId": "java"
    }
   },
   "outputs": [
    {
     "name": "stdout",
     "output_type": "stream",
     "text": [
      "id = 59, title = The Grapes of Wrath, shelf life = 1, expired = false\n",
      "id = 473, title = East of Eden, shelf life = 16, expired = false\n",
      "2\n"
     ]
    }
   ],
   "source": [
    "public class Book {\n",
    "    private String title;\n",
    "    private int id; \n",
    "    private static int count;\n",
    "    private long firstShelved;\n",
    "\n",
    "    public Book() {}\n",
    "\n",
    "    // 1. 1 argument constructor\n",
    "    public Book(String title) {\n",
    "        this.title = title;\n",
    "\n",
    "        // 3. generate id\n",
    "        this.id = (int) (Math.random()*1000);\n",
    "\n",
    "        // 4. time when book enters library\n",
    "        this.firstShelved = System.currentTimeMillis();\n",
    "    }\n",
    "\n",
    "    // 4. public get count\n",
    "    public static int getCount(){\n",
    "        return count;\n",
    "    }\n",
    "\n",
    "    public long getShelfLife() {\n",
    "        return System.currentTimeMillis() - this.firstShelved;\n",
    "    }\n",
    "\n",
    "    public boolean isExpired() {\n",
    "        if(this.getShelfLife()/1000 > 3) {\n",
    "            return true;\n",
    "        }\n",
    "        return false;\n",
    "    }\n",
    "\n",
    "    // 2. toString\n",
    "    public String toString() {\n",
    "        return (\"id = \" + this.id + \", title = \" + this.title + \", shelf life = \" + this.getShelfLife() + \", expired = \" + this.isExpired());\n",
    "    }\n",
    "\n",
    "    // 2. tester method\n",
    "    public static void main(String[] args) {\n",
    "        // 5. generate 2 books, output id and title, count of books in library\n",
    "        Book book1 = new Book(\"The Grapes of Wrath\");\n",
    "        Book book2 = new Book(\"East of Eden\");\n",
    "        \n",
    "        Book[] library = {book1, book2};\n",
    "\n",
    "        for(int i = 0; i < library.length; i++) {\n",
    "            System.out.println(library[i].toString());\n",
    "            count++;\n",
    "        }\n",
    "\n",
    "        System.out.println(getCount());\n",
    "    }\n",
    "\n",
    "}\n",
    "\n",
    "Book.main(null);"
   ]
  },
  {
   "attachments": {},
   "cell_type": "markdown",
   "metadata": {},
   "source": [
    "# Question 2\n",
    "\n",
    "\n",
    "### extended Classes (Part 2) Try to use alternate forms of loops and techniques for construction.\n",
    "1. Ensure Novel and Textbook run the Constructor from Book.\n",
    "2. Create instance variables unique to Novel has Author, Textbook has publishing company.  New items are not required by Constructor.  \n",
    "3. Make Getters and Setters for all new items.  You can add your own.\n",
    "4. Add a time when book entered the library.  This should be same for Parent and Subclasses.  \n",
    "5. Make sure there are getters and setters for items as needed.  For instance, be able to set items not required by constructor.\n",
    "6. Define tester method to test all items.  "
   ]
  },
  {
   "cell_type": "code",
   "execution_count": 35,
   "metadata": {
    "vscode": {
     "languageId": "java"
    }
   },
   "outputs": [
    {
     "name": "stdout",
     "output_type": "stream",
     "text": [
      "id = 571, title = Harry Potter, shelf life = 1000, expired = false, author = JK Rowling\n",
      "id = 223, title = Calc, shelf life = 5000, expired = true, company = Newton Calc Company\n"
     ]
    }
   ],
   "source": [
    "public class Novel extends Book {\n",
    "    // unique instance variables\n",
    "    private String title;\n",
    "    private String author;\n",
    "\n",
    "    public Novel(String title) {\n",
    "        // 1. run constructor form book\n",
    "        super(title);\n",
    "    }\n",
    "\n",
    "    // 3. getters and setters for new items\n",
    "    public String getAuthor() {\n",
    "        return this.author;\n",
    "    }\n",
    "\n",
    "    public void setAuthor(String author) {\n",
    "        this.author = author;\n",
    "    }\n",
    "\n",
    "    public static void main(String[] args) {\n",
    "        Novel test = new Novel(\"Harry Potter\");\n",
    "        test.setAuthor(\"JK Rowling\");\n",
    "\n",
    "        // add time to shelf life\n",
    "\n",
    "        try {\n",
    "            Thread.sleep(1000);\n",
    "          } catch (InterruptedException e) {\n",
    "            Thread.currentThread().interrupt();\n",
    "          } \n",
    "        \n",
    "        System.out.println(test.toString() + \", author = \" + test.getAuthor());\n",
    "\n",
    "    }\n",
    "}\n",
    "\n",
    "public class Textbook extends Book {\n",
    "    private String publishingCompany;\n",
    "\n",
    "    public Textbook(String title) {\n",
    "        super(title);\n",
    "    }\n",
    "\n",
    "    public String getPublishingCompany() {\n",
    "        return this.publishingCompany;\n",
    "    }\n",
    "\n",
    "    public void setPublishingCompany(String publishingCompany) {\n",
    "        this.publishingCompany = publishingCompany;\n",
    "    }\n",
    "\n",
    "    public static void main(String[] args) {\n",
    "        Textbook test = new Textbook(\"Calc\");\n",
    "        test.setPublishingCompany(\"Newton Calc Company\");\n",
    "\n",
    "        // add time to shelf life\n",
    "\n",
    "        try {\n",
    "            Thread.sleep(5000);\n",
    "          } catch (InterruptedException e) {\n",
    "            Thread.currentThread().interrupt();\n",
    "          } \n",
    "        \n",
    "        System.out.println(test.toString() + \", company = \" + test.getPublishingCompany());\n",
    "    }\n",
    "}\n",
    "\n",
    "Novel.main(null);\n",
    "Textbook.main(null);"
   ]
  }
 ],
 "metadata": {
  "kernelspec": {
   "display_name": "Java",
   "language": "java",
   "name": "java"
  },
  "language_info": {
   "codemirror_mode": "java",
   "file_extension": ".jshell",
   "mimetype": "text/x-java-source",
   "name": "Java",
   "pygments_lexer": "java",
   "version": "11.0.16+8-post-Ubuntu-0ubuntu120.04"
  },
  "orig_nbformat": 4
 },
 "nbformat": 4,
 "nbformat_minor": 2
}
