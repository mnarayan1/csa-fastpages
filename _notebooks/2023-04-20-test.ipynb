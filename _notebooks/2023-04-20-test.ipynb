{
 "cells": [
  {
   "attachments": {},
   "cell_type": "markdown",
   "metadata": {},
   "source": [
    "# Test\n",
    "> 4/20 test\n",
    "\n",
    "- toc: true \n",
    "- badges: true\n",
    "- comments: true\n",
    "- categories: [jupyter]"
   ]
  },
  {
   "attachments": {},
   "cell_type": "markdown",
   "metadata": {},
   "source": [
    "# Question 1"
   ]
  },
  {
   "cell_type": "code",
   "execution_count": 33,
   "metadata": {
    "vscode": {
     "languageId": "java"
    }
   },
   "outputs": [
    {
     "name": "stdout",
     "output_type": "stream",
     "text": [
      "id = 750, title = The Grapes of Wrath\n",
      "id = 311, title = East of Eden\n",
      "2\n"
     ]
    }
   ],
   "source": [
    "public class Book {\n",
    "    private String title;\n",
    "    private int id; \n",
    "    private static int count;\n",
    "\n",
    "    // 1. 1 argument constructor\n",
    "    public Book(String title) {\n",
    "        this.title = title;\n",
    "\n",
    "        // 3. generate id\n",
    "        this.id = (int) (Math.random()*1000);\n",
    "    }\n",
    "\n",
    "    // 4. public get count\n",
    "    public static int getCount(){\n",
    "        return count;\n",
    "    }\n",
    "\n",
    "    // 2. toString\n",
    "    public String toString() {\n",
    "        return (\"id = \" + this.id + \", title = \" + this.title);\n",
    "    }\n",
    "\n",
    "    // 2. tester method\n",
    "    public static void main(String[] args) {\n",
    "        // 5. generate 2 books, output id and title, count of books in library\n",
    "        Book book1 = new Book(\"The Grapes of Wrath\");\n",
    "        Book book2 = new Book(\"East of Eden\");\n",
    "        \n",
    "        Book[] library = {book1, book2};\n",
    "\n",
    "        for(int i = 0; i < library.length; i++) {\n",
    "            System.out.println(library[i].toString());\n",
    "            count++;\n",
    "        }\n",
    "\n",
    "        System.out.println(getCount());\n",
    "    }\n",
    "\n",
    "}\n",
    "\n",
    "Book.main(null);"
   ]
  },
  {
   "attachments": {},
   "cell_type": "markdown",
   "metadata": {},
   "source": [
    "# Question 2"
   ]
  }
 ],
 "metadata": {
  "kernelspec": {
   "display_name": "Java",
   "language": "java",
   "name": "java"
  },
  "language_info": {
   "codemirror_mode": "java",
   "file_extension": ".jshell",
   "mimetype": "text/x-java-source",
   "name": "Java",
   "pygments_lexer": "java",
   "version": "11.0.16+8-post-Ubuntu-0ubuntu120.04"
  },
  "orig_nbformat": 4
 },
 "nbformat": 4,
 "nbformat_minor": 2
}
