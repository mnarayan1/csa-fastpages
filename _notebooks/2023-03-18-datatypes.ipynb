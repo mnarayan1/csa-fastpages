{
 "cells": [
  {
   "attachments": {},
   "cell_type": "markdown",
   "metadata": {},
   "source": [
    "# Generics Types and Collections\n",
    "> Done as treo!\n",
    "\n",
    "- toc: true \n",
    "- badges: true\n",
    "- comments: true\n",
    "- categories: [jupyter]"
   ]
  },
  {
   "attachments": {},
   "cell_type": "markdown",
   "metadata": {},
   "source": [
    "# Hack 1"
   ]
  },
  {
   "cell_type": "code",
   "execution_count": 1,
   "metadata": {
    "vscode": {
     "languageId": "java"
    }
   },
   "outputs": [
    {
     "name": "stdout",
     "output_type": "stream",
     "text": [
      "Words count: 1, data: seven Words count: 2, data: seven slimy Words count: 3, data: seven slimy snakes Words count: 4, data: seven slimy snakes sallying Words count: 5, data: seven slimy snakes sallying slowly Words count: 6, data: seven slimy snakes sallying slowly slithered Words count: 7, data: seven slimy snakes sallying slowly slithered southward Dequeued data: seven\n",
      "Words count: 6, data: slimy snakes sallying slowly slithered southward Dequeued data: slimy\n",
      "Words count: 5, data: snakes sallying slowly slithered southward Dequeued data: snakes\n",
      "Words count: 4, data: sallying slowly slithered southward Dequeued data: sallying\n",
      "Words count: 3, data: slowly slithered southward Dequeued data: slowly\n",
      "Words count: 2, data: slithered southward Dequeued data: slithered\n",
      "Words count: 1, data: southward Dequeued data: southward\n",
      "Words count: 0, data: "
     ]
    }
   ],
   "source": [
    "import java.util.LinkedList;\n",
    "import java.util.Queue;\n",
    "\n",
    "public class QueueChallenge {\n",
    "\n",
    "    public static void main(String[] args) {\n",
    "        Queue<String> queue = new LinkedList<>();\n",
    "        // count number of words in queue\n",
    "        int wordCount = 0;\n",
    "\n",
    "        // Enqueue data\n",
    "        // .add adds each word to the end of the queue\n",
    "        queue.add(\"seven\");\n",
    "        wordCount++;\n",
    "        printQueue(queue, wordCount);\n",
    "\n",
    "        queue.add(\"slimy\");\n",
    "        wordCount++;\n",
    "        printQueue(queue, wordCount);\n",
    "\n",
    "        queue.add(\"snakes\");\n",
    "        wordCount++;\n",
    "        printQueue(queue, wordCount);\n",
    "\n",
    "        queue.add(\"sallying\");\n",
    "        wordCount++;\n",
    "        printQueue(queue, wordCount);\n",
    "\n",
    "        queue.add(\"slowly\");\n",
    "        wordCount++;\n",
    "        printQueue(queue, wordCount);\n",
    "\n",
    "        queue.add(\"slithered\");\n",
    "        wordCount++;\n",
    "        printQueue(queue, wordCount);\n",
    "\n",
    "        queue.add(\"southward\");\n",
    "        wordCount++;\n",
    "        printQueue(queue, wordCount);\n",
    "\n",
    "        // Dequeue data\n",
    "        // queue.remove() removes the first element from the queue\n",
    "        String data = queue.remove();\n",
    "        wordCount--;\n",
    "        System.out.println(\"Dequeued data: \" + data);\n",
    "        printQueue(queue, wordCount);\n",
    "\n",
    "        data = queue.remove();\n",
    "        wordCount--;\n",
    "        System.out.println(\"Dequeued data: \" + data);\n",
    "        printQueue(queue, wordCount);\n",
    "\n",
    "        data = queue.remove();\n",
    "        wordCount--;\n",
    "        System.out.println(\"Dequeued data: \" + data);\n",
    "        printQueue(queue, wordCount);\n",
    "\n",
    "        data = queue.remove();\n",
    "        wordCount--;\n",
    "        System.out.println(\"Dequeued data: \" + data);\n",
    "        printQueue(queue, wordCount);\n",
    "\n",
    "        data = queue.remove();\n",
    "        wordCount--;\n",
    "        System.out.println(\"Dequeued data: \" + data);\n",
    "        printQueue(queue, wordCount);\n",
    "\n",
    "        data = queue.remove();\n",
    "        wordCount--;\n",
    "        System.out.println(\"Dequeued data: \" + data);\n",
    "        printQueue(queue, wordCount);\n",
    "\n",
    "        data = queue.remove();\n",
    "        wordCount--;\n",
    "        System.out.println(\"Dequeued data: \" + data);\n",
    "        printQueue(queue, wordCount);\n",
    "    }\n",
    "\n",
    "    private static void printQueue(Queue<String> queue, int wordCount) {\n",
    "        // Print the queue\n",
    "        System.out.print(\"Words count: \" + wordCount + \", data: \");\n",
    "        // iterating over a queue is similar to iterating over a list\n",
    "        for (String element : queue) {\n",
    "            System.out.print(element + \" \");\n",
    "        }\n",
    "    }\n",
    "}\n",
    "\n",
    "QueueChallenge.main(null);"
   ]
  },
  {
   "attachments": {},
   "cell_type": "markdown",
   "metadata": {},
   "source": [
    "# Hack 2"
   ]
  },
  {
   "cell_type": "code",
   "execution_count": 3,
   "metadata": {
    "vscode": {
     "languageId": "java"
    }
   },
   "outputs": [
    {
     "name": "stdout",
     "output_type": "stream",
     "text": [
      "[1, 2, 3, 4, 5, 6, 7, 8]\n"
     ]
    }
   ],
   "source": [
    "import java.util.LinkedList;\n",
    "import java.util.Queue;\n",
    "\n",
    "public class MergeQueues {\n",
    "    public static void main(String[] args) {\n",
    "        // start off with two separate queues, and use .add to add integers to each queue\n",
    "        Queue<Integer> queue1 = new LinkedList<>();\n",
    "        queue1.add(1);\n",
    "        queue1.add(4);\n",
    "        queue1.add(5);\n",
    "        queue1.add(8);\n",
    "\n",
    "        Queue<Integer> queue2 = new LinkedList<>();\n",
    "        queue2.add(2);\n",
    "        queue2.add(3);\n",
    "        queue2.add(6);\n",
    "        queue2.add(7);\n",
    "\n",
    "        Queue<Integer> mergedQueue = mergeQueues(queue1, queue2);\n",
    "        System.out.println(mergedQueue);\n",
    "    }\n",
    "\n",
    "    public static Queue<Integer> mergeQueues(Queue<Integer> queue1, Queue<Integer> queue2) {\n",
    "        // mergedQueue is the final sorted queue\n",
    "        Queue<Integer> mergedQueue = new LinkedList<>();\n",
    "\n",
    "        while (!queue1.isEmpty() && !queue2.isEmpty()) {\n",
    "            // .peek looks at the first value in each queue\n",
    "            int head1 = queue1.peek();\n",
    "            int head2 = queue2.peek();\n",
    "\n",
    "            if (head1 < head2) {\n",
    "                // the smaller integer is added to the merged queue, and is removed from the original queue\n",
    "                mergedQueue.add(head1);\n",
    "                queue1.remove();\n",
    "            } else {\n",
    "                mergedQueue.add(head2);\n",
    "                queue2.remove();\n",
    "            }\n",
    "        }\n",
    "\n",
    "        while (!queue1.isEmpty()) {\n",
    "            mergedQueue.add(queue1.peek());\n",
    "            queue1.remove();\n",
    "        }\n",
    "\n",
    "        while (!queue2.isEmpty()) {\n",
    "            mergedQueue.add(queue2.peek());\n",
    "            queue2.remove();\n",
    "        }\n",
    "\n",
    "        return mergedQueue;\n",
    "    }\n",
    "}\n",
    "\n",
    "MergeQueues.main(null);"
   ]
  },
  {
   "attachments": {},
   "cell_type": "markdown",
   "metadata": {},
   "source": [
    "# Hack 3"
   ]
  },
  {
   "cell_type": "code",
   "execution_count": 7,
   "metadata": {
    "vscode": {
     "languageId": "java"
    }
   },
   "outputs": [
    {
     "name": "stdout",
     "output_type": "stream",
     "text": [
      "2 3 4 5 6 7 8 1 "
     ]
    }
   ],
   "source": [
    "import java.util.LinkedList;\n",
    "import java.util.Queue;\n",
    "import java.util.Random;\n",
    "\n",
    "public class ShuffleQueue {\n",
    "\n",
    "    public static void main(String[] args) {\n",
    "\n",
    "        // Create a new Queue and add elements\n",
    "        Queue<Integer> queue = new LinkedList<>();\n",
    "        queue.add(1);\n",
    "        queue.add(2);\n",
    "        queue.add(3);\n",
    "        queue.add(4);\n",
    "        queue.add(5);\n",
    "        queue.add(6);\n",
    "        queue.add(7);\n",
    "        queue.add(8);\n",
    "\n",
    "        // Shuffle the Queue by iterating through each element and swapping with a random position\n",
    "        for (int i = 0; i < queue.size(); i++) {\n",
    "            int randomIndex = (int)Math.random()*10;\n",
    "            int temp = queue.peek(); // Get the element at the head of the queue\n",
    "            queue.poll(); // Remove the element from the head of the queue\n",
    "            queue.add(temp); // Add the element back to the queue\n",
    "            for (int j = 0; j < randomIndex; j++) {\n",
    "                queue.add(queue.peek()); // Move the elements up to the random index\n",
    "                queue.poll();\n",
    "            }\n",
    "        }\n",
    "\n",
    "        // Print out the shuffled Queue\n",
    "        while (!queue.isEmpty()) {\n",
    "            System.out.print(queue.poll() + \" \");\n",
    "        }\n",
    "    }\n",
    "}\n",
    "\n",
    "ShuffleQueue.main(null);"
   ]
  },
  {
   "attachments": {},
   "cell_type": "markdown",
   "metadata": {},
   "source": [
    "# Hack 4"
   ]
  },
  {
   "cell_type": "code",
   "execution_count": 5,
   "metadata": {
    "vscode": {
     "languageId": "java"
    }
   },
   "outputs": [
    {
     "name": "stdout",
     "output_type": "stream",
     "text": [
      "Queue elements: [1, 2, 3]\n",
      "Stack elements: 3 2 1 "
     ]
    }
   ],
   "source": [
    "import java.util.LinkedList;\n",
    "import java.util.Queue;\n",
    "import java.util.Stack;\n",
    "\n",
    "public class ReverseQueueWithStack {\n",
    "    public static void main(String[] args) {\n",
    "        // create a Queue and add elements\n",
    "        Queue<Integer> queue = new LinkedList<>();\n",
    "        queue.add(1);\n",
    "        queue.add(2);\n",
    "        queue.add(3);\n",
    "        System.out.println(\"Queue elements: \" + queue);\n",
    "\n",
    "        // create a Stack and transfer elements from Queue to Stack\n",
    "        Stack<Integer> stack = new Stack<>();\n",
    "        while (!queue.isEmpty()) {\n",
    "            stack.push(queue.remove());\n",
    "        }\n",
    "\n",
    "        // print the elements of the Stack\n",
    "        System.out.print(\"Stack elements: \");\n",
    "        while (!stack.isEmpty()) {\n",
    "            // .pop takes the last element of the stack\n",
    "            System.out.print(stack.pop() + \" \");\n",
    "        }\n",
    "    }\n",
    "}\n",
    "\n",
    "ReverseQueueWithStack.main(null);"
   ]
  },
  {
   "attachments": {},
   "cell_type": "markdown",
   "metadata": {},
   "source": [
    "# Inheritance"
   ]
  },
  {
   "cell_type": "code",
   "execution_count": 4,
   "metadata": {
    "vscode": {
     "languageId": "java"
    }
   },
   "outputs": [
    {
     "name": "stdout",
     "output_type": "stream",
     "text": [
      "Class:\n",
      "Alice:\n",
      "\tMath: 90.0\n",
      "\tEnglish: 85.0\n",
      "Bob:\n",
      "\tMath: 80.0\n",
      "\tEnglish: 75.0\n",
      "\n"
     ]
    }
   ],
   "source": [
    "// Grade.java\n",
    "public class Grade {\n",
    "    public final String name;\n",
    "    public final double score;\n",
    "    \n",
    "    public Grade(String name, double score) {\n",
    "      this.name = name;\n",
    "      this.score = score;\n",
    "    }\n",
    "    \n",
    "    @Override\n",
    "    public String toString() {\n",
    "      return name + \": \" + score;\n",
    "    }\n",
    "  }\n",
    "  \n",
    "  // Student.java\n",
    "  public class Student {\n",
    "    public final String name;\n",
    "    public final ArrayList<Grade> grades;\n",
    "    \n",
    "    public Student(String name) {\n",
    "      this.name = name;\n",
    "      grades = new ArrayList<>();\n",
    "    }\n",
    "    \n",
    "    public void addGrade(Grade grade) {\n",
    "      grades.add(grade);\n",
    "    }\n",
    "    \n",
    "    @Override\n",
    "    public String toString() {\n",
    "      StringBuilder sb = new StringBuilder();\n",
    "      sb.append(name).append(\":\\n\");\n",
    "      for (Grade grade : grades) {\n",
    "        sb.append(\"\\t\").append(grade.toString()).append(\"\\n\");\n",
    "      }\n",
    "      return sb.toString();\n",
    "    }\n",
    "  }\n",
    "  \n",
    "  // Class.java\n",
    "  public class Class {\n",
    "    public final ArrayList<Student> students;\n",
    "    \n",
    "    public Class() {\n",
    "      students = new ArrayList<>();\n",
    "    }\n",
    "    \n",
    "    public void addStudent(Student student) {\n",
    "      students.add(student);\n",
    "    }\n",
    "    \n",
    "    @Override\n",
    "    public String toString() {\n",
    "      StringBuilder sb = new StringBuilder();\n",
    "      sb.append(\"Class:\\n\");\n",
    "      for (Student student : students) {\n",
    "        sb.append(student.toString());\n",
    "      }\n",
    "      return sb.toString();\n",
    "    }\n",
    "  }\n",
    "  \n",
    "  // Main.java\n",
    "  public class Main {\n",
    "    public static void main(String[] args) {\n",
    "      Class myClass = new Class();\n",
    "      \n",
    "      Student student1 = new Student(\"Alice\");\n",
    "      student1.addGrade(new Grade(\"Math\", 90.0));\n",
    "      student1.addGrade(new Grade(\"English\", 85.0));\n",
    "      myClass.addStudent(student1);\n",
    "      \n",
    "      Student student2 = new Student(\"Bob\");\n",
    "      student2.addGrade(new Grade(\"Math\", 80.0));\n",
    "      student2.addGrade(new Grade(\"English\", 75.0));\n",
    "      myClass.addStudent(student2);\n",
    "      \n",
    "      System.out.println(myClass.toString());\n",
    "    }\n",
    "  }  \n",
    "\n",
    "Main.main(null);"
   ]
  }
 ],
 "metadata": {
  "kernelspec": {
   "display_name": "Java",
   "language": "java",
   "name": "java"
  },
  "language_info": {
   "codemirror_mode": "java",
   "file_extension": ".jshell",
   "mimetype": "text/x-java-source",
   "name": "Java",
   "pygments_lexer": "java",
   "version": "11.0.16+8-post-Ubuntu-0ubuntu120.04"
  },
  "orig_nbformat": 4
 },
 "nbformat": 4,
 "nbformat_minor": 2
}
