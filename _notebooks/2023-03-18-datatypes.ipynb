{
 "cells": [
  {
   "attachments": {},
   "cell_type": "markdown",
   "metadata": {},
   "source": [
    "# Generics Types and Collections\n",
    "> Done as treo!\n",
    "\n",
    "- toc: true \n",
    "- badges: true\n",
    "- comments: true\n",
    "- categories: [jupyter]"
   ]
  },
  {
   "attachments": {},
   "cell_type": "markdown",
   "metadata": {},
   "source": [
    "# Hack 1"
   ]
  },
  {
   "cell_type": "code",
   "execution_count": 2,
   "metadata": {
    "vscode": {
     "languageId": "java"
    }
   },
   "outputs": [
    {
     "name": "stdout",
     "output_type": "stream",
     "text": [
      "Words count: 1, data: seven \n",
      "Words count: 2, data: seven slimy \n",
      "Words count: 3, data: seven slimy snakes \n",
      "Words count: 4, data: seven slimy snakes sallying \n",
      "Words count: 5, data: seven slimy snakes sallying slowly \n",
      "Words count: 6, data: seven slimy snakes sallying slowly slithered \n",
      "Words count: 7, data: seven slimy snakes sallying slowly slithered southward \n",
      "Dequeued data: seven\n",
      "Words count: 6, data: slimy snakes sallying slowly slithered southward \n",
      "Dequeued data: slimy\n",
      "Words count: 5, data: snakes sallying slowly slithered southward \n",
      "Dequeued data: snakes\n",
      "Words count: 4, data: sallying slowly slithered southward \n",
      "Dequeued data: sallying\n",
      "Words count: 3, data: slowly slithered southward \n",
      "Dequeued data: slowly\n",
      "Words count: 2, data: slithered southward \n",
      "Dequeued data: slithered\n",
      "Words count: 1, data: southward \n",
      "Dequeued data: southward\n",
      "Words count: 0, data: \n"
     ]
    }
   ],
   "source": [
    "import java.util.LinkedList;\n",
    "import java.util.Queue;\n",
    "\n",
    "public class QueueChallenge {\n",
    "\n",
    "    public static void main(String[] args) {\n",
    "        Queue<String> queue = new LinkedList<>();\n",
    "        int wordCount = 0;\n",
    "\n",
    "        // Enqueue data\n",
    "        queue.add(\"seven\");\n",
    "        wordCount++;\n",
    "        printQueue(queue, wordCount);\n",
    "\n",
    "        queue.add(\"slimy\");\n",
    "        wordCount++;\n",
    "        printQueue(queue, wordCount);\n",
    "\n",
    "        queue.add(\"snakes\");\n",
    "        wordCount++;\n",
    "        printQueue(queue, wordCount);\n",
    "\n",
    "        queue.add(\"sallying\");\n",
    "        wordCount++;\n",
    "        printQueue(queue, wordCount);\n",
    "\n",
    "        queue.add(\"slowly\");\n",
    "        wordCount++;\n",
    "        printQueue(queue, wordCount);\n",
    "\n",
    "        queue.add(\"slithered\");\n",
    "        wordCount++;\n",
    "        printQueue(queue, wordCount);\n",
    "\n",
    "        queue.add(\"southward\");\n",
    "        wordCount++;\n",
    "        printQueue(queue, wordCount);\n",
    "\n",
    "        // Dequeue data\n",
    "        String data = queue.remove();\n",
    "        wordCount--;\n",
    "        System.out.println(\"Dequeued data: \" + data);\n",
    "        printQueue(queue, wordCount);\n",
    "\n",
    "        data = queue.remove();\n",
    "        wordCount--;\n",
    "        System.out.println(\"Dequeued data: \" + data);\n",
    "        printQueue(queue, wordCount);\n",
    "\n",
    "        data = queue.remove();\n",
    "        wordCount--;\n",
    "        System.out.println(\"Dequeued data: \" + data);\n",
    "        printQueue(queue, wordCount);\n",
    "\n",
    "        data = queue.remove();\n",
    "        wordCount--;\n",
    "        System.out.println(\"Dequeued data: \" + data);\n",
    "        printQueue(queue, wordCount);\n",
    "\n",
    "        data = queue.remove();\n",
    "        wordCount--;\n",
    "        System.out.println(\"Dequeued data: \" + data);\n",
    "        printQueue(queue, wordCount);\n",
    "\n",
    "        data = queue.remove();\n",
    "        wordCount--;\n",
    "        System.out.println(\"Dequeued data: \" + data);\n",
    "        printQueue(queue, wordCount);\n",
    "\n",
    "        data = queue.remove();\n",
    "        wordCount--;\n",
    "        System.out.println(\"Dequeued data: \" + data);\n",
    "        printQueue(queue, wordCount);\n",
    "    }\n",
    "\n",
    "    private static void printQueue(Queue<String> queue, int wordCount) {\n",
    "        // Print the queue\n",
    "        System.out.print(\"Words count: \" + wordCount + \", data: \");\n",
    "        for (String element : queue) {\n",
    "            System.out.print(element + \" \");\n",
    "        }\n",
    "        System.out.println();\n",
    "    }\n",
    "}\n",
    "\n",
    "QueueChallenge.main(null);"
   ]
  },
  {
   "attachments": {},
   "cell_type": "markdown",
   "metadata": {},
   "source": [
    "# Hack 2"
   ]
  },
  {
   "cell_type": "code",
   "execution_count": 3,
   "metadata": {
    "vscode": {
     "languageId": "java"
    }
   },
   "outputs": [
    {
     "name": "stdout",
     "output_type": "stream",
     "text": [
      "[1, 2, 3, 4, 5, 6, 7, 8]\n"
     ]
    }
   ],
   "source": [
    "import java.util.LinkedList;\n",
    "import java.util.Queue;\n",
    "\n",
    "public class MergeQueues {\n",
    "    public static void main(String[] args) {\n",
    "        Queue<Integer> queue1 = new LinkedList<>();\n",
    "        queue1.add(1);\n",
    "        queue1.add(4);\n",
    "        queue1.add(5);\n",
    "        queue1.add(8);\n",
    "\n",
    "        Queue<Integer> queue2 = new LinkedList<>();\n",
    "        queue2.add(2);\n",
    "        queue2.add(3);\n",
    "        queue2.add(6);\n",
    "        queue2.add(7);\n",
    "\n",
    "        Queue<Integer> mergedQueue = mergeQueues(queue1, queue2);\n",
    "        System.out.println(mergedQueue);\n",
    "    }\n",
    "\n",
    "    public static Queue<Integer> mergeQueues(Queue<Integer> queue1, Queue<Integer> queue2) {\n",
    "        Queue<Integer> mergedQueue = new LinkedList<>();\n",
    "\n",
    "        while (!queue1.isEmpty() && !queue2.isEmpty()) {\n",
    "            int head1 = queue1.peek();\n",
    "            int head2 = queue2.peek();\n",
    "\n",
    "            if (head1 < head2) {\n",
    "                mergedQueue.add(head1);\n",
    "                queue1.remove();\n",
    "            } else {\n",
    "                mergedQueue.add(head2);\n",
    "                queue2.remove();\n",
    "            }\n",
    "        }\n",
    "\n",
    "        while (!queue1.isEmpty()) {\n",
    "            mergedQueue.add(queue1.peek());\n",
    "            queue1.remove();\n",
    "        }\n",
    "\n",
    "        while (!queue2.isEmpty()) {\n",
    "            mergedQueue.add(queue2.peek());\n",
    "            queue2.remove();\n",
    "        }\n",
    "\n",
    "        return mergedQueue;\n",
    "    }\n",
    "}\n",
    "\n",
    "MergeQueues.main(null);"
   ]
  },
  {
   "attachments": {},
   "cell_type": "markdown",
   "metadata": {},
   "source": [
    "# Hack 3"
   ]
  },
  {
   "cell_type": "code",
   "execution_count": 7,
   "metadata": {
    "vscode": {
     "languageId": "java"
    }
   },
   "outputs": [
    {
     "name": "stdout",
     "output_type": "stream",
     "text": [
      "2 3 4 5 6 7 8 1 "
     ]
    }
   ],
   "source": [
    "import java.util.LinkedList;\n",
    "import java.util.Queue;\n",
    "import java.util.Random;\n",
    "\n",
    "public class ShuffleQueue {\n",
    "\n",
    "    public static void main(String[] args) {\n",
    "\n",
    "        // Create a new Queue and add elements\n",
    "        Queue<Integer> queue = new LinkedList<>();\n",
    "        queue.add(1);\n",
    "        queue.add(2);\n",
    "        queue.add(3);\n",
    "        queue.add(4);\n",
    "        queue.add(5);\n",
    "        queue.add(6);\n",
    "        queue.add(7);\n",
    "        queue.add(8);\n",
    "\n",
    "        // Shuffle the Queue by iterating through each element and swapping with a random position\n",
    "        Random random = new Random();\n",
    "        for (int i = 0; i < queue.size(); i++) {\n",
    "            int randomIndex = random.nextInt(queue.size());\n",
    "            int temp = queue.peek(); // Get the element at the head of the queue\n",
    "            queue.poll(); // Remove the element from the head of the queue\n",
    "            queue.add(temp); // Add the element back to the queue\n",
    "            for (int j = 0; j < randomIndex; j++) {\n",
    "                queue.add(queue.peek()); // Move the elements up to the random index\n",
    "                queue.poll();\n",
    "            }\n",
    "        }\n",
    "\n",
    "        // Print out the shuffled Queue\n",
    "        while (!queue.isEmpty()) {\n",
    "            System.out.print(queue.poll() + \" \");\n",
    "        }\n",
    "    }\n",
    "}\n",
    "\n",
    "ShuffleQueue.main(null);"
   ]
  },
  {
   "attachments": {},
   "cell_type": "markdown",
   "metadata": {},
   "source": [
    "# Hack 4"
   ]
  },
  {
   "cell_type": "code",
   "execution_count": 5,
   "metadata": {
    "vscode": {
     "languageId": "java"
    }
   },
   "outputs": [
    {
     "name": "stdout",
     "output_type": "stream",
     "text": [
      "Queue elements: [1, 2, 3]\n",
      "Stack elements: 3 2 1 "
     ]
    }
   ],
   "source": [
    "import java.util.LinkedList;\n",
    "import java.util.Queue;\n",
    "import java.util.Stack;\n",
    "\n",
    "public class ReverseQueueWithStack {\n",
    "    public static void main(String[] args) {\n",
    "        // create a Queue and add elements\n",
    "        Queue<Integer> queue = new LinkedList<>();\n",
    "        queue.add(1);\n",
    "        queue.add(2);\n",
    "        queue.add(3);\n",
    "        System.out.println(\"Queue elements: \" + queue);\n",
    "\n",
    "        // create a Stack and transfer elements from Queue to Stack\n",
    "        Stack<Integer> stack = new Stack<>();\n",
    "        while (!queue.isEmpty()) {\n",
    "            stack.push(queue.remove());\n",
    "        }\n",
    "\n",
    "        // print the elements of the Stack\n",
    "        System.out.print(\"Stack elements: \");\n",
    "        while (!stack.isEmpty()) {\n",
    "            System.out.print(stack.pop() + \" \");\n",
    "        }\n",
    "    }\n",
    "}\n",
    "\n",
    "ReverseQueueWithStack.main(null);"
   ]
  }
 ],
 "metadata": {
  "kernelspec": {
   "display_name": "Java",
   "language": "java",
   "name": "java"
  },
  "language_info": {
   "codemirror_mode": "java",
   "file_extension": ".jshell",
   "mimetype": "text/x-java-source",
   "name": "Java",
   "pygments_lexer": "java",
   "version": "11.0.16+8-post-Ubuntu-0ubuntu120.04"
  },
  "orig_nbformat": 4
 },
 "nbformat": 4,
 "nbformat_minor": 2
}
