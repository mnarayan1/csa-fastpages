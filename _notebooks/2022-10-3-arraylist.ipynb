{
 "cells": [
  {
   "cell_type": "markdown",
   "metadata": {},
   "source": [
    "# ArrayList\n",
    "> Demonstrates usage of Lists and ArrayLists\n",
    "\n",
    "- toc: false \n",
    "- badges: true\n",
    "- comments: true\n",
    "- categories: [jupyter]"
   ]
  },
  {
   "cell_type": "markdown",
   "metadata": {},
   "source": [
    "## ArrayList\n",
    "\n",
    "[Source](https://www.w3schools.com/java/java_arraylist.asp)\n",
    "- `ArrayList` is a resizable array. The size of an array cannot be modified.\n",
    "- You cannot add/remove elements from an array, but this is possible with an `ArrayList`."
   ]
  },
  {
   "cell_type": "code",
   "execution_count": 1,
   "metadata": {
    "vscode": {
     "languageId": "java"
    }
   },
   "outputs": [],
   "source": [
    "// initiating an ArrayList\n",
    "\n",
    "import java.util.ArrayList; //import ArrayList class\n",
    "\n",
    "List<String> listings = new ArrayList<String>(); // a List is an interface, and an ArrayList is an instance of the List interface"
   ]
  },
  {
   "cell_type": "markdown",
   "metadata": {},
   "source": [
    "## ArrayList Methods"
   ]
  },
  {
   "cell_type": "code",
   "execution_count": 13,
   "metadata": {
    "vscode": {
     "languageId": "java"
    }
   },
   "outputs": [
    {
     "name": "stdout",
     "output_type": "stream",
     "text": [
      "[pe shirt, used prom dress, shoes, pe lock]\n"
     ]
    }
   ],
   "source": [
    "import java.util.ArrayList;\n",
    "\n",
    "List<String> clothes = new ArrayList<String>();\n",
    "List<String> objects = new ArrayList<String>();\n",
    "List<String> listings = new ArrayList<String>();\n",
    "\n",
    "clothes.add(\"pe shirt\"); // add \"pe shirt\" to clothes arraylist\n",
    "clothes.add(\"used prom dress\");\n",
    "clothes.add(\"shoes\");\n",
    "objects.add(\"pe lock\"); // add \"pe lock\" to objects arraylist\n",
    "\n",
    "listings.addAll(clothes);\n",
    "listings.addAll(objects); // add objects and clothes arrays to listings\n",
    "\n",
    "System.out.println(listings); // listings has content from both clothes and objects"
   ]
  },
  {
   "cell_type": "code",
   "execution_count": 15,
   "metadata": {
    "vscode": {
     "languageId": "java"
    }
   },
   "outputs": [
    {
     "name": "stdout",
     "output_type": "stream",
     "text": [
      "original first element: black jeans\n",
      "new first element: black jeans\n",
      "original arraylist: [black jeans, used prom dress, shoes, pe lock]\n",
      "first element remove: [used prom dress, shoes, pe lock]\n",
      "cleared arraylist: []\n"
     ]
    }
   ],
   "source": [
    "// get first element of the listings ArrayList\n",
    "listings.get(0);\n",
    "System.out.println(\"original first element: \" + listings.get(0));\n",
    "\n",
    "// change first element of the listing ArrayList\n",
    "listings.set(0, \"black jeans\");\n",
    "System.out.println(\"new first element: \" + listings.get(0));\n",
    "\n",
    "// remove elements from array\n",
    "System.out.println(\"original arraylist: \" + listings);\n",
    "listings.remove(0);\n",
    "System.out.println(\"first element remove: \" + listings);\n",
    "listings.clear();\n",
    "System.out.println(\"cleared arraylist: \" + listings);"
   ]
  }
 ],
 "metadata": {
  "kernelspec": {
   "display_name": "Java",
   "language": "java",
   "name": "java"
  },
  "language_info": {
   "codemirror_mode": "java",
   "file_extension": ".jshell",
   "mimetype": "text/x-java-source",
   "name": "Java",
   "pygments_lexer": "java",
   "version": "11.0.16+8-post-Ubuntu-0ubuntu120.04"
  },
  "orig_nbformat": 4,
  "vscode": {
   "interpreter": {
    "hash": "916dbcbb3f70747c44a77c7bcd40155683ae19c65e1c03b4aa3499c5328201f1"
   }
  }
 },
 "nbformat": 4,
 "nbformat_minor": 2
}
