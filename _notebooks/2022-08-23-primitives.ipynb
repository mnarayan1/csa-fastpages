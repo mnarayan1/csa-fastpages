{
 "cells": [
  {
   "cell_type": "markdown",
   "metadata": {},
   "source": [
    "# Primitives Hacks\n",
    "> A Jupyter Notebook using primitives.\n",
    "\n",
    "- toc: false \n",
    "- badges: true\n",
    "- comments: true\n",
    "- categories: [jupyter]"
   ]
  },
  {
   "cell_type": "markdown",
   "metadata": {},
   "source": [
    "# Statistics Calculator\n",
    "\n",
    "Calculates minimum, maximum, mean, and standard deviation from user-inputted data. "
   ]
  },
  {
   "cell_type": "code",
   "execution_count": 51,
   "metadata": {
    "vscode": {
     "languageId": "java"
    }
   },
   "outputs": [
    {
     "name": "stdout",
     "output_type": "stream",
     "text": [
      "Enter an numerical datapoint, type a non-numerical value to exit: \n",
      "1.0\n",
      "5.0\n",
      "9.0\n",
      "12.0\n",
      "data: [1.0, 5.0, 9.0, 12.0]\n",
      "maximum: 12.0\n",
      "minimum: 0.0\n",
      "mean: 6.75\n",
      "standard deviation: 4.7871355387816905\n"
     ]
    }
   ],
   "source": [
    "import java.util.Scanner;\n",
    "import java.lang.Math;\n",
    "\n",
    "public class StatsCalculator {\n",
    "    ArrayList<Double> data;\n",
    "    public StatsCalculator() {\n",
    "        this.data = new ArrayList<>();\n",
    "        this.enterData();\n",
    "    }\n",
    "\n",
    "    private void enterData() {\n",
    "        Scanner input = new Scanner(System.in);\n",
    "        System.out.print(\"Enter an numerical datapoint, type a non-numerical value to exit: \\n\");\n",
    "        while(true) {\n",
    "            try {\n",
    "                double sampleInput = input.nextDouble();\n",
    "                System.out.println(sampleInput);\n",
    "                this.data.add(sampleInput);\n",
    "            } catch (Exception e) {\n",
    "                input.close();\n",
    "                break;\n",
    "            }\n",
    "        }\n",
    "    }\n",
    "\n",
    "    public double findMax() {\n",
    "        double max = 0;\n",
    "        for (double num : this.data) {\n",
    "            if (num > max) {\n",
    "                max = num;\n",
    "            }\n",
    "        }\n",
    "        return max;\n",
    "    } \n",
    "\n",
    "    public double findMin() {\n",
    "        double min = 0;\n",
    "        for (double num : this.data) {\n",
    "            if (num < min) {\n",
    "                min = num;\n",
    "            }\n",
    "        }\n",
    "        return min;\n",
    "    } \n",
    "\n",
    "    public double findAverage() {\n",
    "        double total = 0; \n",
    "        for (double num : this.data) {\n",
    "            total += num;\n",
    "        }\n",
    "        return total/this.data.size();\n",
    "    }\n",
    "\n",
    "    public double findStandardDeviation() {\n",
    "        double sum = 0; \n",
    "        for (double num : this.data) {\n",
    "            sum += num;\n",
    "        }\n",
    "        double mean = sum/this.data.size();\n",
    "\n",
    "        double standardDeviation = 0;\n",
    "        for (double num : this.data) {\n",
    "            standardDeviation += Math.pow(num - mean, 2);\n",
    "        }\n",
    "        return Math.sqrt(standardDeviation/(this.data.size() - 1));\n",
    "    }\n",
    "\n",
    "    public static void main(String[] args) {\n",
    "        StatsCalculator newData = new StatsCalculator();\n",
    "        System.out.println(\"data: \" + newData.data);\n",
    "        System.out.println(\"maximum: \" + newData.findMax());\n",
    "        System.out.println(\"minimum: \" + newData.findMin());\n",
    "        System.out.println(\"mean: \" + newData.findAverage());\n",
    "        System.out.println(\"standard deviation: \" + newData.findStandardDeviation());\n",
    "    }\n",
    "}\n",
    "\n",
    "// IJava activation\n",
    "StatsCalculator.main(null);"
   ]
  }
 ],
 "metadata": {
  "kernelspec": {
   "display_name": "Java",
   "language": "java",
   "name": "java"
  },
  "language_info": {
   "codemirror_mode": "java",
   "file_extension": ".jshell",
   "mimetype": "text/x-java-source",
   "name": "Java",
   "pygments_lexer": "java",
   "version": "11.0.16+8-post-Ubuntu-0ubuntu120.04"
  },
  "orig_nbformat": 4,
  "vscode": {
   "interpreter": {
    "hash": "916dbcbb3f70747c44a77c7bcd40155683ae19c65e1c03b4aa3499c5328201f1"
   }
  }
 },
 "nbformat": 4,
 "nbformat_minor": 2
}
