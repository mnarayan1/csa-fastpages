{
 "cells": [
  {
   "attachments": {},
   "cell_type": "markdown",
   "metadata": {},
   "source": [
    "# CanCode Hacks\n",
    "> Review for AP Exam\n",
    "\n",
    "- toc: true \n",
    "- badges: true\n",
    "- comments: true\n",
    "- categories: [jupyter]"
   ]
  },
  {
   "attachments": {},
   "cell_type": "markdown",
   "metadata": {},
   "source": [
    "# Unit 5 Hacks"
   ]
  },
  {
   "cell_type": "code",
   "execution_count": 11,
   "metadata": {
    "vscode": {
     "languageId": "java"
    }
   },
   "outputs": [
    {
     "name": "stdout",
     "output_type": "stream",
     "text": [
      "User: mads!, Password: new password!, Total Accounts: 2\n",
      "User: meena, Password: password, Total Accounts: 2\n"
     ]
    }
   ],
   "source": [
    "// 1. 1 public and 1 private attribute\n",
    "public class Account {\n",
    "    private String password;\n",
    "    public String username;\n",
    "\n",
    "    // 3. static attribute\n",
    "    public static int totalAccounts;\n",
    "\n",
    "    public Account(String password, String username) {\n",
    "        this.password = password;\n",
    "        this.username = username;\n",
    "        setTotalAccounts();\n",
    "    }\n",
    "\n",
    "    // 2. public and private attributes and methods\n",
    "    private String getPassword() {\n",
    "        return this.password;\n",
    "    }\n",
    "\n",
    "    public String getUsername() {\n",
    "        return this.username;\n",
    "    }\n",
    "\n",
    "    // 4. setter for private attribute\n",
    "    private void setPassword(String password) {\n",
    "        this.password = password;\n",
    "    }\n",
    "\n",
    "    public void setUsername(String username) {\n",
    "        this.username = username;\n",
    "    }\n",
    "\n",
    "    public static void setTotalAccounts() {\n",
    "        totalAccounts++;\n",
    "    }\n",
    "\n",
    "    public String toString() {\n",
    "        return (\"User: \" + this.getUsername() + \", Password: \" + this.getPassword() + \", Total Accounts: \" + totalAccounts);\n",
    "    }\n",
    "\n",
    "    // tester method\n",
    "    public static void main(String[] args) {\n",
    "        Account mads = new Account(\"password\", \"mads\");\n",
    "        Account meena = new Account(\"password\", \"meena\");\n",
    "\n",
    "        // test setters\n",
    "        mads.setPassword(\"new password!\");\n",
    "        mads.setUsername(\"mads!\");\n",
    "\n",
    "        System.out.println(mads.toString());\n",
    "        System.out.println(meena.toString());\n",
    "    }\n",
    "}\n",
    "\n",
    "Account.main(null);"
   ]
  },
  {
   "attachments": {},
   "cell_type": "markdown",
   "metadata": {},
   "source": [
    "# Unit 9 Hacks"
   ]
  },
  {
   "attachments": {},
   "cell_type": "markdown",
   "metadata": {},
   "source": [
    "## Hack 1"
   ]
  },
  {
   "cell_type": "code",
   "execution_count": 12,
   "metadata": {
    "vscode": {
     "languageId": "java"
    }
   },
   "outputs": [
    {
     "name": "stdout",
     "output_type": "stream",
     "text": [
      "lambo\n",
      "beep beep\n"
     ]
    }
   ],
   "source": [
    "class Vehicle {\n",
    "    private String name;\n",
    "\n",
    "    public Vehicle(String name){\n",
    "        this.name = name;\n",
    "    }\n",
    "\n",
    "    public String getName() {\n",
    "        return this.name;\n",
    "    }\n",
    "\n",
    "    public void honk() {\n",
    "        System.out.println(\"beep beep\");\n",
    "    }\n",
    "\n",
    "}\n",
    "\n",
    "class Car extends Vehicle {\n",
    "    public Car(String name) {\n",
    "        super(name);\n",
    "    }\n",
    "\n",
    "    public static void main(String[] args) {\n",
    "        Car lambo = new Car(\"lambo\");\n",
    "\n",
    "        System.out.println(lambo.getName());\n",
    "        lambo.honk();\n",
    "    }\n",
    "}\n",
    "\n",
    "Car.main(null);"
   ]
  },
  {
   "attachments": {},
   "cell_type": "markdown",
   "metadata": {},
   "source": [
    "## Hack 2"
   ]
  },
  {
   "cell_type": "code",
   "execution_count": 17,
   "metadata": {
    "vscode": {
     "languageId": "java"
    }
   },
   "outputs": [
    {
     "name": "stdout",
     "output_type": "stream",
     "text": [
      "Name: ostrich, Legs: 2\n",
      "Name: golden retriever, Legs: 4\n"
     ]
    }
   ],
   "source": [
    "public class Animal {\n",
    "    private String name; \n",
    "\n",
    "    public Animal(String name) {\n",
    "        this.name = name;\n",
    "    }\n",
    "\n",
    "    public String getName() {\n",
    "        return this.name;\n",
    "    }\n",
    "\n",
    "    public String toString() {\n",
    "        return (\"Name: \" + this.getName());\n",
    "    }\n",
    "\n",
    "    // tester method\n",
    "    public static void main(String[] args) {\n",
    "        Animal goldenRetriever = new Dog(\"golden retriever\");\n",
    "        System.out.println(goldenRetriever.toString());\n",
    "    }\n",
    "}\n",
    "\n",
    "public class Dog extends Animal {\n",
    "    private int legs = 4;\n",
    "\n",
    "    public Dog(String name) {\n",
    "        super(name);\n",
    "    }\n",
    "\n",
    "    // override superclass method\n",
    "    public String toString() {\n",
    "        return(super.toString() + \", Legs: \" + this.legs);\n",
    "    }\n",
    "}\n",
    "\n",
    "public class Bird extends Animal {\n",
    "    private int legs = 2;\n",
    "\n",
    "    public Bird(String name) {\n",
    "        super(name);\n",
    "    }\n",
    "\n",
    "    // override superclass method\n",
    "    public String toString() {\n",
    "        return(super.toString() + \", Legs: \" + this.legs);\n",
    "    }\n",
    "\n",
    "    // tester method\n",
    "    public static void main(String[] args) {\n",
    "        Animal ostrich = new Bird(\"ostrich\");\n",
    "        System.out.println(ostrich.toString());\n",
    "    }\n",
    "}\n",
    "\n",
    "Bird.main(null);\n",
    "Dog.main(null);"
   ]
  },
  {
   "attachments": {},
   "cell_type": "markdown",
   "metadata": {},
   "source": [
    "# Unit 10 Hacks"
   ]
  },
  {
   "cell_type": "code",
   "execution_count": 20,
   "metadata": {
    "vscode": {
     "languageId": "java"
    }
   },
   "outputs": [
    {
     "data": {
      "text/plain": [
       "720"
      ]
     },
     "execution_count": 20,
     "metadata": {},
     "output_type": "execute_result"
    }
   ],
   "source": [
    "public int factorial(int n) {\n",
    "    if(n == 0) {\n",
    "        return 1;\n",
    "    }\n",
    "\n",
    "    return n * factorial(n-1);\n",
    "}\n",
    "\n",
    "factorial(6);"
   ]
  }
 ],
 "metadata": {
  "kernelspec": {
   "display_name": "Java",
   "language": "java",
   "name": "java"
  },
  "language_info": {
   "codemirror_mode": "java",
   "file_extension": ".jshell",
   "mimetype": "text/x-java-source",
   "name": "Java",
   "pygments_lexer": "java",
   "version": "11.0.16+8-post-Ubuntu-0ubuntu120.04"
  },
  "orig_nbformat": 4
 },
 "nbformat": 4,
 "nbformat_minor": 2
}
