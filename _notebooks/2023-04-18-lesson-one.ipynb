{
 "cells": [
  {
   "attachments": {},
   "cell_type": "markdown",
   "metadata": {},
   "source": [
    "# Lesson Hacks\n",
    "> Review for AP Exam\n",
    "\n",
    "- toc: true \n",
    "- badges: true\n",
    "- comments: true\n",
    "- categories: [jupyter]"
   ]
  },
  {
   "attachments": {},
   "cell_type": "markdown",
   "metadata": {},
   "source": [
    "# CanCode Hacks"
   ]
  },
  {
   "cell_type": "code",
   "execution_count": 11,
   "metadata": {
    "vscode": {
     "languageId": "java"
    }
   },
   "outputs": [
    {
     "name": "stdout",
     "output_type": "stream",
     "text": [
      "User: mads!, Password: new password!, Total Accounts: 2\n",
      "User: meena, Password: password, Total Accounts: 2\n"
     ]
    }
   ],
   "source": [
    "// 1. 1 public and 1 private attribute\n",
    "public class Account {\n",
    "    private String password;\n",
    "    public String username;\n",
    "\n",
    "    // 3. static attribute\n",
    "    public static int totalAccounts;\n",
    "\n",
    "    public Account(String password, String username) {\n",
    "        this.password = password;\n",
    "        this.username = username;\n",
    "        setTotalAccounts();\n",
    "    }\n",
    "\n",
    "    // 2. public and private attributes and methods\n",
    "    private String getPassword() {\n",
    "        return this.password;\n",
    "    }\n",
    "\n",
    "    public String getUsername() {\n",
    "        return this.username;\n",
    "    }\n",
    "\n",
    "    // 4. setter for private attribute\n",
    "    private void setPassword(String password) {\n",
    "        this.password = password;\n",
    "    }\n",
    "\n",
    "    public void setUsername(String username) {\n",
    "        this.username = username;\n",
    "    }\n",
    "\n",
    "    public static void setTotalAccounts() {\n",
    "        totalAccounts++;\n",
    "    }\n",
    "\n",
    "    public String toString() {\n",
    "        return (\"User: \" + this.getUsername() + \", Password: \" + this.getPassword() + \", Total Accounts: \" + totalAccounts);\n",
    "    }\n",
    "\n",
    "    // tester method\n",
    "    public static void main(String[] args) {\n",
    "        Account mads = new Account(\"password\", \"mads\");\n",
    "        Account meena = new Account(\"password\", \"meena\");\n",
    "\n",
    "        // test setters\n",
    "        mads.setPassword(\"new password!\");\n",
    "        mads.setUsername(\"mads!\");\n",
    "\n",
    "        System.out.println(mads.toString());\n",
    "        System.out.println(meena.toString());\n",
    "    }\n",
    "}\n",
    "\n",
    "Account.main(null);"
   ]
  }
 ],
 "metadata": {
  "kernelspec": {
   "display_name": "Java",
   "language": "java",
   "name": "java"
  },
  "language_info": {
   "codemirror_mode": "java",
   "file_extension": ".jshell",
   "mimetype": "text/x-java-source",
   "name": "Java",
   "pygments_lexer": "java",
   "version": "11.0.16+8-post-Ubuntu-0ubuntu120.04"
  },
  "orig_nbformat": 4
 },
 "nbformat": 4,
 "nbformat_minor": 2
}
