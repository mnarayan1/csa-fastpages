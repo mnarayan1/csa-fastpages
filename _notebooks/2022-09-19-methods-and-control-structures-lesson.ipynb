{
 "cells": [
  {
   "cell_type": "markdown",
   "metadata": {},
   "source": [
    "# Team Methods and Control Structures Lesson\n",
    "> Week 4 Team FRQ\n",
    "\n",
    "- toc: false \n",
    "- badges: true\n",
    "- comments: true\n",
    "- categories: [jupyter]"
   ]
  },
  {
   "cell_type": "markdown",
   "metadata": {},
   "source": [
    "# Control Structures"
   ]
  },
  {
   "cell_type": "markdown",
   "metadata": {},
   "source": [
    "## if, else if, and else"
   ]
  },
  {
   "cell_type": "markdown",
   "metadata": {},
   "source": [
    "A single `if` statement only takes one condition, but what if we wanted to specify more conditions? We can add ``else if`` and ``else`` statements to accomplish this. \n",
    "\n",
    "Structure:\n",
    "```\n",
    "if(condition) {\n",
    "    // code to execute when condition is met\n",
    "} else if (condition 2) {\n",
    "    // code to execute when condition is false but condition 2 is true\n",
    "} else {\n",
    "    // code to execute when condition and condition 2 are false\n",
    "}\n",
    "```"
   ]
  },
  {
   "cell_type": "markdown",
   "metadata": {},
   "source": [
    "## switch statements"
   ]
  },
  {
   "cell_type": "markdown",
   "metadata": {},
   "source": [
    "`switch` statements check the value of a condition and run code blocks for different scenarios. \n",
    "\n",
    "Structure:\n",
    "```\n",
    "switch(condition) {\n",
    "    case value1:\n",
    "        // code\n",
    "        break;\n",
    "    case value2:\n",
    "        // code\n",
    "        break;\n",
    "    default;\n",
    "        // code that should run for unspecified case\n",
    "        break;\n",
    "}\n",
    "```\n",
    "\n",
    "``switch`` statements are especially useful for creating menus. "
   ]
  },
  {
   "cell_type": "markdown",
   "metadata": {},
   "source": [
    "# Methods"
   ]
  },
  {
   "cell_type": "markdown",
   "metadata": {},
   "source": [
    "**Method**: A piece of code that runs only when it's called. It can perform specific actions on an object. \n",
    "\n",
    "```\n",
    "// example\n",
    "myPainter.turnRight();\n",
    "```\n",
    "\n",
    "In this example, the method `turnRight` is called on the object `myPainter`. It will perform a set of actions that will allow the painter to turn right. This makes our code more readable and reusable. "
   ]
  },
  {
   "cell_type": "code",
   "execution_count": 2,
   "metadata": {},
   "outputs": [
    {
     "name": "stdout",
     "output_type": "stream",
     "text": [
      "zzzzzzzz\n"
     ]
    }
   ],
   "source": [
    "public class Person {\n",
    "\n",
    "    // defining the method sleep, which can be called on future instances of Person\n",
    "    public static void sleep () {\n",
    "        // will print out zzzzzzzz when sleep is called on Person\n",
    "        System.out.println(\"zzzzzzzz\");\n",
    "    }\n",
    "\n",
    "    public static void main(String[] args) {\n",
    "        Person myPerson = new Person();\n",
    "        myPerson.sleep();\n",
    "    } \n",
    "}\n",
    "\n",
    "Person.main(null);"
   ]
  },
  {
   "cell_type": "markdown",
   "metadata": {},
   "source": [
    "# Hacks"
   ]
  },
  {
   "cell_type": "markdown",
   "metadata": {},
   "source": [
    "Make a class with the following\n",
    "- Complete the `Person` class with the following methods\n",
    "    - A `weather` method telling the person to put on a jacket if it's raining outside\n",
    "    - Modify the `sleep` method to made the person sleep at certain hours"
   ]
  },
  {
   "cell_type": "markdown",
   "metadata": {},
   "source": [
    "# Funsies"
   ]
  },
  {
   "cell_type": "markdown",
   "metadata": {},
   "source": [
    "Group selfie from collaboration on this lesson. #womeninstem. \n",
    "\n",
    "![data types](../images/groupselfie.png)"
   ]
  }
 ],
 "metadata": {
  "kernelspec": {
   "display_name": "Java",
   "language": "java",
   "name": "java"
  },
  "language_info": {
   "codemirror_mode": "java",
   "file_extension": ".jshell",
   "mimetype": "text/x-java-source",
   "name": "java",
   "pygments_lexer": "java",
   "version": "11.0.16+8-post-Ubuntu-0ubuntu120.04"
  },
  "orig_nbformat": 4
 },
 "nbformat": 4,
 "nbformat_minor": 2
}
