{
 "cells": [
  {
   "cell_type": "markdown",
   "metadata": {},
   "source": [
    "# Unit 8 - 2D Array HW\n",
    "> 2D array hacks\n",
    "\n",
    "- toc: false \n",
    "- badges: true\n",
    "- comments: true\n",
    "- categories: [jupyter]"
   ]
  },
  {
   "cell_type": "code",
   "execution_count": 21,
   "metadata": {},
   "outputs": [
    {
     "name": "stdout",
     "output_type": "stream",
     "text": [
      "Value at (0,1): 1\n",
      "Reversed: \n",
      "2 \n",
      "3 \n",
      "0 \n",
      "1 \n",
      " \n",
      "Sum of products of rows: 6\n"
     ]
    }
   ],
   "source": [
    "public class TwoDArray {\n",
    "    private int[][] array;\n",
    "\n",
    "    // constructor to initialize values of array\n",
    "    public TwoDArray(int[][] array) {\n",
    "        this.array = array;\n",
    "    }\n",
    "\n",
    "    // reverse rows and print it out\n",
    "    public void reverse() {\n",
    "        System.out.println(\"Reversed: \");\n",
    "        int[][] newArray = new int[this.array.length][this.array[0].length];\n",
    "        for(int i = this.array.length-1; i >= 0; i--) {\n",
    "            for(int j = 0; j<this.array[i].length; j++) {\n",
    "                System.out.println(this.array[i][j] + \" \");\n",
    "            };\n",
    "        };\n",
    "        System.out.println(\" \");\n",
    "    }\n",
    "\n",
    "    // get value at column\n",
    "    public void getValue(int row, int column) {\n",
    "        System.out.println(\"Value at (\" + row + \",\" + column + \"): \" + this.array[row][column]); \n",
    "    }\n",
    "\n",
    "    // add products of rows\n",
    "    public void addProducts() {\n",
    "        int sum = 0;\n",
    "\n",
    "        for(int i = 0; i<this.array.length; i++) {\n",
    "            int product = 1; \n",
    "            for(int j = 0; j<this.array[i].length; j++) {\n",
    "                product *= array[i][j];\n",
    "            }\n",
    "            sum += product; \n",
    "        }\n",
    "\n",
    "        System.out.println(\"Sum of products of rows: \" + sum);\n",
    "    }\n",
    "\n",
    "    // tester method\n",
    "    public static void main(String [] args) {\n",
    "        int[][] newArray = {{0, 1}, {2, 3}};\n",
    "        TwoDArray array = new TwoDArray(newArray);\n",
    "        array.getValue(0,1);\n",
    "        array.reverse();\n",
    "        array.addProducts();\n",
    "    }\n",
    "}\n",
    "\n",
    "TwoDArray.main(null);"
   ]
  }
 ],
 "metadata": {
  "kernelspec": {
   "display_name": "Java",
   "language": "java",
   "name": "java"
  },
  "language_info": {
   "codemirror_mode": "java",
   "file_extension": ".jshell",
   "mimetype": "text/x-java-source",
   "name": "java",
   "pygments_lexer": "java",
   "version": "11.0.16+8-post-Ubuntu-0ubuntu120.04"
  },
  "orig_nbformat": 4
 },
 "nbformat": 4,
 "nbformat_minor": 2
}
