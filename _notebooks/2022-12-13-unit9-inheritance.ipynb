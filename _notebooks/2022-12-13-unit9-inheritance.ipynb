{
 "cells": [
  {
   "cell_type": "markdown",
   "metadata": {},
   "source": [
    "# Unit 9 Homework\n",
    "> Inheritance\n",
    "\n",
    "- toc: false \n",
    "- badges: true\n",
    "- comments: true\n",
    "- categories: [jupyter]"
   ]
  },
  {
   "cell_type": "markdown",
   "metadata": {},
   "source": [
    "# World Cup subclass and superclass"
   ]
  },
  {
   "cell_type": "code",
   "execution_count": 3,
   "metadata": {
    "vscode": {
     "languageId": "java"
    }
   },
   "outputs": [],
   "source": [
    "public class WorldCupTeam {\n",
    "    private int players;\n",
    "    private String name;\n",
    "    private String manager;\n",
    "\n",
    "    public WorldCupTeam(int players, String name, String manager) {\n",
    "        this.players = players;\n",
    "        this.name = name; \n",
    "        this.manager = manager; \n",
    "    }\n",
    "\n",
    "    public boolean playGame() {\n",
    "        // randomly select if the team wins\n",
    "        if(Math.random() > 0.5) {\n",
    "            return false; \n",
    "        }\n",
    "        return true; \n",
    "    }\n",
    "}"
   ]
  },
  {
   "cell_type": "markdown",
   "metadata": {},
   "source": [
    "5 teams extending ``WorldCupTeam`` class. "
   ]
  },
  {
   "cell_type": "code",
   "execution_count": 13,
   "metadata": {
    "vscode": {
     "languageId": "java"
    }
   },
   "outputs": [],
   "source": [
    "public class Portugal extends WorldCupTeam {\n",
    "    public Portugal(int players, String name, String manager) {\n",
    "        super(players, name, manager);\n",
    "    }\n",
    "}\n",
    "\n",
    "public class Croatia extends WorldCupTeam {\n",
    "    public Croatia(int players, String name, String manager) {\n",
    "        super(players, name, manager);\n",
    "    }\n",
    "}\n",
    "\n",
    "public class Brazil extends WorldCupTeam {\n",
    "    public Brazil(int players, String name, String manager) {\n",
    "        super(players, name, manager);\n",
    "    }\n",
    "}\n",
    "\n",
    "public class USA extends WorldCupTeam {\n",
    "    public USA(int players, String name, String manager) {\n",
    "        super(players, name, manager);\n",
    "    }\n",
    "}\n",
    "\n",
    "public class Morocco extends WorldCupTeam {\n",
    "    public Morocco(int players, String name, String manager) {\n",
    "        super(players, name, manager);\n",
    "    }\n",
    "}"
   ]
  }
 ],
 "metadata": {
  "kernelspec": {
   "display_name": "Java",
   "language": "java",
   "name": "java"
  },
  "language_info": {
   "codemirror_mode": "java",
   "file_extension": ".jshell",
   "mimetype": "text/x-java-source",
   "name": "Java",
   "pygments_lexer": "java",
   "version": "11.0.16+8-post-Ubuntu-0ubuntu120.04"
  },
  "orig_nbformat": 4
 },
 "nbformat": 4,
 "nbformat_minor": 2
}
