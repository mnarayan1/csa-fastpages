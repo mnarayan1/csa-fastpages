{
 "cells": [
  {
   "cell_type": "markdown",
   "metadata": {},
   "source": [
    "# FRQ 4\n",
    "> 2D arrays\n",
    "\n",
    "- toc: false \n",
    "- badges: true\n",
    "- comments: true\n",
    "- categories: [jupyter]"
   ]
  },
  {
   "cell_type": "markdown",
   "metadata": {},
   "source": [
    "# Unit 8 ArrayList Notes:\n",
    "\n",
    "**Creating a 2D Array**\n",
    "\n",
    "```\n",
    "int[][] numbers = // initialize array here;\n",
    "```\n",
    "\n",
    "**Iteration**\n",
    "- Use a for loop. First iterate through the rows, then iterate over the columns\n",
    "\n",
    "```\n",
    "for(int i = 0; i< array.length; i++) {\n",
    "    for(int j = 0; j < array[i].length; j++) {\n",
    "        // code here\n",
    "    }\n",
    "}\n",
    "```\n",
    "\n",
    "- Printing backwards: \n",
    "\n",
    "```\n",
    "for(int i = array.length-1; i>=0; i--) {\n",
    "    for(int j = array[i].length-1; j>= 0; j--) {\n",
    "        // code here\n",
    "    }\n",
    "}\n",
    "```"
   ]
  },
  {
   "cell_type": "markdown",
   "metadata": {},
   "source": [
    "# 2019 FRQ 4:\n",
    "\n",
    "Lightboard with true and false"
   ]
  },
  {
   "cell_type": "code",
   "execution_count": 11,
   "metadata": {
    "vscode": {
     "languageId": "java"
    }
   },
   "outputs": [
    {
     "name": "stdout",
     "output_type": "stream",
     "text": [
      "true\n"
     ]
    }
   ],
   "source": [
    "public class Lightboard {\n",
    "    private boolean[][] lights;\n",
    "\n",
    "    // part a\n",
    "    public Lightboard(int numRows, int numCols) {\n",
    "        lights = new boolean[numRows][numCols];\n",
    "\n",
    "        for(int r = 0; r < numRows; r++) {\n",
    "            for(int c = 0; c < numCols; c++) {\n",
    "                double random = Math.random() * 4;\n",
    "\n",
    "                lights[r][c] = random < 0.4;\n",
    "            }\n",
    "        }\n",
    "    }\n",
    "\n",
    "    // part b\n",
    "    public boolean evaluateLight(int row, int col) {\n",
    "        int columnLightsOn = 0;\n",
    "\n",
    "        for(int light = 0; light < col; light++) {\n",
    "            if(lights[row][light]) {\n",
    "                columnLightsOn++;\n",
    "            }\n",
    "        }\n",
    "\n",
    "        if(lights[row][col] && columnLightsOn % 2 == 0) {\n",
    "            return false; \n",
    "        }\n",
    "\n",
    "        if(!lights[row][col] && columnLightsOn % 3 == 0) {\n",
    "            return true;\n",
    "        }\n",
    "        \n",
    "        return lights[row][col];\n",
    "    }\n",
    "\n",
    "    public static void main(String[] args) {\n",
    "        Lightboard newBoard = new Lightboard(5, 5);\n",
    "\n",
    "        System.out.println(newBoard.evaluateLight(0,0));\n",
    "    }\n",
    "}\n",
    "\n",
    "Lightboard.main(null);"
   ]
  }
 ],
 "metadata": {
  "kernelspec": {
   "display_name": "Java",
   "language": "java",
   "name": "java"
  },
  "language_info": {
   "codemirror_mode": "java",
   "file_extension": ".jshell",
   "mimetype": "text/x-java-source",
   "name": "Java",
   "pygments_lexer": "java",
   "version": "11.0.16+8-post-Ubuntu-0ubuntu120.04"
  },
  "orig_nbformat": 4
 },
 "nbformat": 4,
 "nbformat_minor": 2
}
