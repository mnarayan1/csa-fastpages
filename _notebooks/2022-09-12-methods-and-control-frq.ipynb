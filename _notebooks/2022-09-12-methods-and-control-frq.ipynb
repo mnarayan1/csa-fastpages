{
 "cells": [
  {
   "cell_type": "markdown",
   "metadata": {},
   "source": [
    "# Methods and Control Structures FRQ\n",
    "> Notebook for FRQ #1\n",
    "\n",
    "- toc: false \n",
    "- badges: true\n",
    "- comments: true\n",
    "- categories: [jupyter]"
   ]
  },
  {
   "cell_type": "markdown",
   "metadata": {},
   "source": [
    "## 2017, Question 1"
   ]
  },
  {
   "cell_type": "markdown",
   "metadata": {},
   "source": [
    "[The full FRQ can be found here](https://apcentral.collegeboard.org/media/pdf/ap-computer-science-a-frq-2017.pdf)\n",
    "\n",
    "a) Write the constructor for the `Digits` class. \n",
    "- Constructor: initilizes/fills `digitList` with the digits from `num`\n",
    "- `digitList`: elements are `Integer` objects representing single digits, and appear in the same order as the digits in `num`.  \n",
    "\n",
    "b) Write the `Digits` method `isStrictlyIncreasing`. \n",
    "- returns `true` if elements of `digitList` are strictly increasing in order\n",
    "- returns `false` otherwise"
   ]
  },
  {
   "cell_type": "code",
   "execution_count": null,
   "metadata": {
    "vscode": {
     "languageId": "java"
    }
   },
   "outputs": [],
   "source": [
    "public class Digits { \n",
    "    /** The list of digits from the number used to construct this object. \n",
    "    * The digits appear in the list in the same order in which they appear in the original number.\n",
    "    */ \n",
    "    private ArrayList<Integer> digitList; \n",
    "\n",
    "    /** Constructs a Digits object that represents num.\n",
    "     * Precondition: num >= 0\n",
    "    */ \n",
    "    public Digits(int num) {\n",
    "        /* to be implemented in part (a) */ \n",
    "    }\n",
    "\n",
    "    /** Returns true if the digits in this Digits object are in strictly increasing order;\n",
    "     * false otherwise.\n",
    "    */ \n",
    "    public boolean isStrictlyIncreasing() {\n",
    "        /* to be implemented in part (b) */ \n",
    "    } \n",
    "} \n"
   ]
  },
  {
   "cell_type": "markdown",
   "metadata": {},
   "source": [
    "## My Solution\n",
    "\n",
    "- Part a: Convert the original `int` to a `String`, then iterate through each `char` of the `String` to create an `ArrayList` of digits. The elements of the final array were converted back into `ints`. \n",
    "- Part b: Iterate through each element of `digitList` to check if the current element is greater than the previous element. "
   ]
  },
  {
   "cell_type": "code",
   "execution_count": 32,
   "metadata": {
    "vscode": {
     "languageId": "java"
    }
   },
   "outputs": [
    {
     "name": "stdout",
     "output_type": "stream",
     "text": [
      "[6, 7, 8, 9]\n",
      "strictly increasing\n"
     ]
    }
   ],
   "source": [
    "public class Digits {\n",
    "    private ArrayList<Integer> digitList;\n",
    "\n",
    "    // part a - constructor to initialize and fill digitList\n",
    "    public Digits(int num) {\n",
    "        this.digitList = new ArrayList<Integer>();\n",
    "        String numberString = String.valueOf(num);\n",
    "        char[] chars = numberString.toCharArray();\n",
    "\n",
    "        for(char ch: chars) {\n",
    "            this.digitList.add(Character.getNumericValue(ch));\n",
    "        }\n",
    "\n",
    "        // to test that the constructor is working\n",
    "        System.out.println(this.digitList);\n",
    "    }\n",
    "\n",
    "    // part b - check if digits are strictly increasing\n",
    "    public boolean isStrictlyIncreasing() {\n",
    "        boolean checkIncreasing = true; \n",
    "        for(int i = 1; i < this.digitList.size(); i++) {\n",
    "            if(this.digitList.get(i) > this.digitList.get(i-1)) {\n",
    "                continue;\n",
    "            } else {\n",
    "                checkIncreasing = false;\n",
    "                break;\n",
    "            }\n",
    "        }\n",
    "        return checkIncreasing;\n",
    "    }\n",
    "\n",
    "    public static void main(String[] args) {\n",
    "        // testing - should return true for isStrictlyIncreasing\n",
    "        Digits newDigit = new Digits(6789);\n",
    "        if(newDigit.isStrictlyIncreasing() == false) {\n",
    "            System.out.println(\"not strictly increasing\");\n",
    "        } else {\n",
    "            System.out.println(\"strictly increasing\");\n",
    "        }\n",
    "    }\n",
    "}\n",
    "\n",
    "Digits.main(null);"
   ]
  }
 ],
 "metadata": {
  "kernelspec": {
   "display_name": "Java",
   "language": "java",
   "name": "java"
  },
  "language_info": {
   "codemirror_mode": "java",
   "file_extension": ".jshell",
   "mimetype": "text/x-java-source",
   "name": "Java",
   "pygments_lexer": "java",
   "version": "11.0.16+8-post-Ubuntu-0ubuntu120.04"
  },
  "orig_nbformat": 4,
  "vscode": {
   "interpreter": {
    "hash": "916dbcbb3f70747c44a77c7bcd40155683ae19c65e1c03b4aa3499c5328201f1"
   }
  }
 },
 "nbformat": 4,
 "nbformat_minor": 2
}
