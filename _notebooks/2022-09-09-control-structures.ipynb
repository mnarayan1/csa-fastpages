{
 "cells": [
  {
   "cell_type": "markdown",
   "metadata": {},
   "source": [
    "# Boolean Expressions and Control Structures\n",
    "> Lesson on booleans and control structures\n",
    "\n",
    "- toc: false \n",
    "- badges: true\n",
    "- comments: true\n",
    "- categories: [jupyter]"
   ]
  },
  {
   "cell_type": "markdown",
   "metadata": {},
   "source": [
    "**Boolean**: a primitive data type that is either true or false\n",
    "```\n",
    "boolean computersAreCool = true;\n",
    "boolean paperIsCool = false;\n",
    "```\n",
    "\n",
    "**Boolean Expression**: an expression that evaluates as either true or false\n",
    "```\n",
    "1==1                    // is true, because 1 will always be equal to 1\n",
    "a < 1                   // will sometimes be true, because not all values of a will be less than 1\n",
    "“paper” == “good”       // is false, because the string “paper” is not equal to the string “good”\n",
    "```\n",
    "\n",
    "We can use boolean expressions in control structures to run programs when certain conditions are met. \n"
   ]
  },
  {
   "cell_type": "markdown",
   "metadata": {},
   "source": [
    "# if Statements"
   ]
  },
  {
   "cell_type": "markdown",
   "metadata": {},
   "source": [
    "``if`` statements will run a code block if a particular condition is true. \n",
    "\n",
    "Structure: \n",
    "```\n",
    "if(condition) {\n",
    "    // code will run when condition is true\n",
    "}\n",
    "```"
   ]
  },
  {
   "cell_type": "code",
   "execution_count": 5,
   "metadata": {
    "vscode": {
     "languageId": "java"
    }
   },
   "outputs": [
    {
     "name": "stdout",
     "output_type": "stream",
     "text": [
      "this will print\n",
      "this will print\n"
     ]
    }
   ],
   "source": [
    "// an if statement will run when the condition is true\n",
    "if(true) {\n",
    "\tSystem.out.println(\"this will print\");\n",
    "} \n",
    "if(1==1) {\n",
    "\tSystem.out.println(\"this will print\");\n",
    "}\n",
    "\n",
    "// an if statement will not run if the condition is false\n",
    "if(false) {\n",
    "\tSystem.out.println(\"this will not print\");\n",
    "} \n",
    "if(\"paper\" == \"good\") {\n",
    "\tSystem.out.println(\"this will not print\");\n",
    "}\n"
   ]
  },
  {
   "cell_type": "markdown",
   "metadata": {},
   "source": [
    "# if, else if, and else"
   ]
  },
  {
   "cell_type": "markdown",
   "metadata": {},
   "source": [
    "A single `if` statement only takes one condition, but what if we wanted to specify more conditions? We can add ``else if`` and ``else`` statements to accomplish this. \n",
    "\n",
    "Structure:\n",
    "```\n",
    "if(condition) {\n",
    "    // code to execute when condition is met\n",
    "} else if (condition 2) {\n",
    "    // code to execute when condition is false but condition 2 is true\n",
    "} else {\n",
    "    // code to execute when condition and condition 2 are false\n",
    "}\n",
    "```"
   ]
  },
  {
   "cell_type": "code",
   "execution_count": 8,
   "metadata": {
    "vscode": {
     "languageId": "java"
    }
   },
   "outputs": [
    {
     "name": "stdout",
     "output_type": "stream",
     "text": [
      "You should be in school!\n"
     ]
    }
   ],
   "source": [
    "int time = 8; // 24-hour clock, 8 AM\n",
    "\n",
    "if(time < 8 ) {  // will run if it is before 8 AM\n",
    "    System.out.println(\"School will start in a few hours!\");\n",
    "} else if ( time >= 8 && time < 16) { // will run betwee 8 AM and 4 PM\n",
    "    System.out.println(\"You should be in school!\");\n",
    "} else { // will run from 4 PM to 12 AM\n",
    "    System.out.println(\"You are at home!\");\n",
    "}"
   ]
  },
  {
   "cell_type": "markdown",
   "metadata": {},
   "source": [
    "# switch statements"
   ]
  },
  {
   "cell_type": "markdown",
   "metadata": {},
   "source": [
    "`switch` statements check the value of a condition and run code blocks for different scenarios. \n",
    "\n",
    "Structure:\n",
    "```\n",
    "switch(condition) {\n",
    "    case value1:\n",
    "        // code\n",
    "        break;\n",
    "    case value2:\n",
    "        // code\n",
    "        break;\n",
    "    default;\n",
    "        // code that should run for unspecified case\n",
    "        break;\n",
    "}\n",
    "```\n",
    "\n",
    "``switch`` statements are especially useful for creating menus. "
   ]
  },
  {
   "cell_type": "code",
   "execution_count": 11,
   "metadata": {
    "vscode": {
     "languageId": "java"
    }
   },
   "outputs": [
    {
     "name": "stdout",
     "output_type": "stream",
     "text": [
      "---- Menu Options ---\n",
      "0: print hello world\n",
      "1: print goodbye world\n",
      "\n",
      "hello world\n"
     ]
    }
   ],
   "source": [
    "int menuOption = 0;\n",
    "\n",
    "// print menu for user to see options they can choose from\n",
    "System.out.println(\"---- Menu Options ---\");\n",
    "System.out.println(\"0: print hello world\");\n",
    "System.out.println(\"1: print goodbye world\\n\");\n",
    "\n",
    "switch(menuOption) { // check the value of menuOption\n",
    "    case 0: // what to run when menuOption=0\n",
    "        System.out.println(\"hello world\");\n",
    "        break; \n",
    "    case 1: // what to run when menuOption=1\n",
    "        System.out.println(\"goodbye world\");\n",
    "        break;\n",
    "    default: // default code to run\n",
    "        System.out.println(\"menu options not found!\");\n",
    "        break;\n",
    "}"
   ]
  },
  {
   "cell_type": "markdown",
   "metadata": {},
   "source": [
    "The two programs below accomplish the same thing: given an object, the program will rate it as \"cool\" or \"uncool\". The first uses `if-else if-else`, and the other uses `switch-case`."
   ]
  },
  {
   "cell_type": "markdown",
   "metadata": {},
   "source": [
    "if statements: "
   ]
  },
  {
   "cell_type": "code",
   "execution_count": 1,
   "metadata": {
    "vscode": {
     "languageId": "java"
    }
   },
   "outputs": [
    {
     "name": "stdout",
     "output_type": "stream",
     "text": [
      "cool\n"
     ]
    }
   ],
   "source": [
    "String object = \"computer\"; // object is \"computer\"\n",
    "\n",
    "// the if statement will print different statements depending on the value of object\n",
    "if(object == \"computer\") {\n",
    "    System.out.println(\"cool\");\n",
    "} else if (object == \"keyboard\") {\n",
    "    System.out.println(\"cool\");\n",
    "} else if (object == \"phone\") {\n",
    "    System.out.println(\"cool\");\n",
    "} else if (object == \"paper\") {\n",
    "    System.out.println(\"uncool\");\n",
    "} else if(object == \"pencil\") {\n",
    "    System.out.println(\"uncool\");\n",
    "} else {\n",
    "    System.out.println(\"object not found!\");\n",
    "}\n",
    "\n",
    "// since object = \"computer\" , this program should print \"cool\""
   ]
  },
  {
   "cell_type": "markdown",
   "metadata": {},
   "source": [
    "switch-case: "
   ]
  },
  {
   "cell_type": "code",
   "execution_count": 3,
   "metadata": {
    "vscode": {
     "languageId": "java"
    }
   },
   "outputs": [
    {
     "name": "stdout",
     "output_type": "stream",
     "text": [
      "cool\n"
     ]
    }
   ],
   "source": [
    "String object = \"computer\"; // object is \"computer\"\n",
    "\n",
    "// the switch statement will test different values of object and print a result depending on the value of object\n",
    "switch(object) {\n",
    "    case \"computer\":\n",
    "        System.out.println(\"cool\");\n",
    "        break;\n",
    "    case \"keyboard\":\n",
    "        System.out.println(\"cool\");\n",
    "        break;\n",
    "    case \"phone\":\n",
    "        System.out.println(\"cool\");\n",
    "        break;\n",
    "    case \"paper\":\n",
    "        System.out.println(\"uncool\");\n",
    "        break;\n",
    "    case \"pencil\":\n",
    "        System.out.println(\"uncool\");\n",
    "        break;\n",
    "    default:\n",
    "        System.out.println(\"object not found!\");\n",
    "        break;\n",
    "}\n",
    "\n",
    "// since object = \"computer\", this program should print \"cool\""
   ]
  },
  {
   "cell_type": "markdown",
   "metadata": {},
   "source": [
    "# DeMorgan's Law"
   ]
  },
  {
   "cell_type": "markdown",
   "metadata": {},
   "source": [
    "DeMorgan's Laws show how to deal with the negation of a conditional statements. When ``!`` is applied: \n",
    "- ``true`` will become ``false``\n",
    "- ``false`` will become ``true``\n",
    "- `and` (&&) will become `or` (||)\n",
    "\n",
    "Examples: \n",
    "\n",
    "| Expression    | Applying DeMorgan's Law   | result |\n",
    "|-|-|-|\n",
    "| !true | opposite of true --> false | false |\n",
    "| !(true \\|\\| false) | false && true | false |\n",
    "| !((false && true) \\|\\| (!false && true)) | (true \\|\\| false) && (false \\|\\| true) --> true && true | true |\n"
   ]
  },
  {
   "cell_type": "code",
   "execution_count": 1,
   "metadata": {
    "vscode": {
     "languageId": "java"
    }
   },
   "outputs": [
    {
     "name": "stdout",
     "output_type": "stream",
     "text": [
      "!((true && false) || (false && false)) is true, so this should print!\n"
     ]
    }
   ],
   "source": [
    "// DeMorgan's law practice\n",
    "\n",
    "if(!true) {\n",
    "    System.out.println(\"!true = false, so this statement should not print\");\n",
    "}\n",
    "\n",
    "if(!((true && false) || (false && false))) {\n",
    "    // using DeMorgan's law, this statement is equal to (false || true) && (true || true), which is true\n",
    "    System.out.println(\"!((true && false) || (false && false)) is true, so this should print!\");\n",
    "}\n",
    "\n",
    "if(!(false || true)) {\n",
    "    // using DeMorgan's law, this statement is equal to true && false, which is false\n",
    "    System.out.println(\"this should not print!\");\n",
    "}"
   ]
  }
 ],
 "metadata": {
  "kernelspec": {
   "display_name": "Java",
   "language": "java",
   "name": "java"
  },
  "language_info": {
   "codemirror_mode": "java",
   "file_extension": ".jshell",
   "mimetype": "text/x-java-source",
   "name": "Java",
   "pygments_lexer": "java",
   "version": "11.0.16+8-post-Ubuntu-0ubuntu120.04"
  },
  "orig_nbformat": 4
 },
 "nbformat": 4,
 "nbformat_minor": 2
}
