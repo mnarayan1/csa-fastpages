{
 "cells": [
  {
   "cell_type": "markdown",
   "metadata": {},
   "source": [
    "# Program Design\n",
    "> Planning for end of trimester project\n",
    "\n",
    "- toc: false \n",
    "- badges: true\n",
    "- comments: true\n",
    "- categories: [jupyter]"
   ]
  },
  {
   "cell_type": "markdown",
   "metadata": {},
   "source": [
    "## Brain Write\n",
    "\n",
    "- Commerce site for Del Norte students to sell their belongings/services\n",
    "    - ex. Used TINspire calculator, tutoring, clothes\n",
    "- Helps students earn money, save money on common items, and get help (tutoring)!\n",
    "- Reselling products is environmentally friendly!\n",
    "- Not directly associated with the school so we don't get sued!"
   ]
  },
  {
   "cell_type": "markdown",
   "metadata": {},
   "source": [
    "## Design\n",
    "\n",
    "Our team made a [Figma](https://www.figma.com/file/CS0iwE7Gt6u95D7o1kync0/women-in-stem?node-id=0%3A1) with a *very rough overview* of what we want our final project to look like. We will update this with behavior, interaction, and data diagrams as we solidify our ideas. "
   ]
  },
  {
   "cell_type": "markdown",
   "metadata": {},
   "source": [
    "## Test Frontend/Backend Code\n",
    "Sample code to create a row in a table for each listing. We don't want a table in our final product, but this is a good start for iterating over product listings. "
   ]
  },
  {
   "cell_type": "code",
   "execution_count": 1,
   "metadata": {},
   "outputs": [
    {
     "name": "stdout",
     "output_type": "stream",
     "text": [
      "\n",
      "    <tr>\n",
      "        <td>TINspire Calculator</td>\n",
      "        <td>70.00</td>\n",
      "        <td>test@test.com</td>\n",
      "    </tr>\n",
      "    \n",
      "\n",
      "    <tr>\n",
      "        <td>New PE Lock</td>\n",
      "        <td>5.00</td>\n",
      "        <td>1-800-YOUR-NUMBER</td>\n",
      "    </tr>\n",
      "    \n",
      "\n",
      "    <tr>\n",
      "        <td>AP Bio Prep Book</td>\n",
      "        <td>15,00</td>\n",
      "        <td>test@test.com</td>\n",
      "    </tr>\n",
      "    \n"
     ]
    }
   ],
   "source": [
    "// create object for listing\n",
    "function Listing(name, price, contactInfo) {\n",
    "    this.name = name;\n",
    "    this.price = price;\n",
    "    this.contactInfo = contactInfo;\n",
    "}\n",
    "\n",
    "const data = [\n",
    "    new Listing(\"TINspire Calculator\", \"70.00\", \"test@test.com\"),\n",
    "    new Listing(\"New PE Lock\", \"5.00\", \"1-800-YOUR-NUMBER\"),\n",
    "    new Listing(\"AP Bio Prep Book\", \"15,00\", \"test@test.com\")\n",
    "]\n",
    "\n",
    "// return table row for each listing that can be added to html\n",
    "for (const row of data) { \n",
    "    const name = row.name;\n",
    "    const price = row.price;\n",
    "    const contactInfo = row.contactInfo;\n",
    "    console.log(`\n",
    "    <tr>\n",
    "        <td>${name}</td>\n",
    "        <td>${price}</td>\n",
    "        <td>${contactInfo}</td>\n",
    "    </tr>\n",
    "    `)\n",
    " }"
   ]
  }
 ],
 "metadata": {
  "kernelspec": {
   "display_name": "JavaScript (Node.js)",
   "language": "javascript",
   "name": "javascript"
  },
  "language_info": {
   "file_extension": ".js",
   "mimetype": "application/javascript",
   "name": "javascript",
   "version": "6.11.2"
  },
  "orig_nbformat": 4,
  "vscode": {
   "interpreter": {
    "hash": "916dbcbb3f70747c44a77c7bcd40155683ae19c65e1c03b4aa3499c5328201f1"
   }
  }
 },
 "nbformat": 4,
 "nbformat_minor": 2
}
