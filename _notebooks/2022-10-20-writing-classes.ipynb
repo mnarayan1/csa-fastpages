{
 "cells": [
  {
   "cell_type": "markdown",
   "metadata": {},
   "source": [
    "# Writing Classes Lesson\n",
    "> College Board Lessons\n",
    "\n",
    "- toc: false \n",
    "- badges: true\n",
    "- comments: true\n",
    "- categories: [jupyter]"
   ]
  },
  {
   "cell_type": "markdown",
   "metadata": {},
   "source": [
    "## Writing Classes Notes\n",
    "\n",
    "### Hack 1\n",
    "- Write first part of ``Cow`` class, with body consisting of instance variables and constructors"
   ]
  },
  {
   "cell_type": "code",
   "execution_count": 2,
   "metadata": {},
   "outputs": [
    {
     "name": "stdout",
     "output_type": "stream",
     "text": [
      "holstein\n"
     ]
    }
   ],
   "source": [
    "public class Cow {\n",
    "    String sound = \"moo\";\n",
    "    String type; \n",
    "    int numMilkings;\n",
    "\n",
    "    public Cow(String cowType, String cowSound) {\n",
    "        this.type = cowType;\n",
    "        this.sound = cowSound;\n",
    "        this.numMilkings = 0;\n",
    "    }\n",
    "\n",
    "    public String getType() {\n",
    "        return this.type;\n",
    "    }\n",
    "\n",
    "    public int getNumMilkings() {\n",
    "        return this.numMilkings;\n",
    "    }\n",
    "\n",
    "    public String getSound() {\n",
    "        return this.sound;\n",
    "    }\n",
    "\n",
    "    public void milkCow() {\n",
    "        this.numMilkings++;\n",
    "    }\n",
    "}\n",
    "\n",
    "public class CowDriver{\n",
    "    public static void main(String[] args) {\n",
    "        Cow myCow = new Cow(\"holstein\", \"moo\");\n",
    "        System.out.println(myCow.getType());\n",
    "    }\n",
    "}\n",
    "\n",
    "CowDriver.main(null);"
   ]
  },
  {
   "cell_type": "markdown",
   "metadata": {},
   "source": [
    "### Data Encapsulation\n",
    "\n",
    "- Can restruct access to read-only or write-only through accessor/mutator methods"
   ]
  },
  {
   "cell_type": "markdown",
   "metadata": {},
   "source": [
    "### 5.4 Accessor Methods (getters)\n",
    "- Non-void, includes a return type\n",
    "- ``toString`` will return a string from an object's properties\n",
    "\n",
    "```\n",
    "public String toString() {\n",
    "    return \"Type: \" +  type;\n",
    "}\n",
    "```"
   ]
  },
  {
   "cell_type": "markdown",
   "metadata": {},
   "source": [
    "### 5.5 Mutator Method (Setter)\n",
    "\n",
    "- Usually a void avriable that changes static variables"
   ]
  },
  {
   "cell_type": "markdown",
   "metadata": {},
   "source": [
    "### Static Variables and Methods\n",
    "- Static variables and methods belong to a class and are called with a ClassName rather than the object name\n",
    "\n",
    "### this keyword\n",
    "- refers to the instance variables in a class"
   ]
  }
 ],
 "metadata": {
  "kernelspec": {
   "display_name": "Java",
   "language": "java",
   "name": "java"
  },
  "language_info": {
   "codemirror_mode": "java",
   "file_extension": ".jshell",
   "mimetype": "text/x-java-source",
   "name": "java",
   "pygments_lexer": "java",
   "version": "11.0.16+8-post-Ubuntu-0ubuntu120.04"
  },
  "orig_nbformat": 4
 },
 "nbformat": 4,
 "nbformat_minor": 2
}
