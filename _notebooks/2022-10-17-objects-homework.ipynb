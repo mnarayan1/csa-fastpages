{
 "cells": [
  {
   "cell_type": "markdown",
   "metadata": {},
   "source": [
    "# Objects Homework\n",
    "> Week 1 College Board Lessons\n",
    "\n",
    "- toc: false \n",
    "- badges: true\n",
    "- comments: true\n",
    "- categories: [jupyter]"
   ]
  },
  {
   "cell_type": "markdown",
   "metadata": {},
   "source": [
    "## Objects Notes\n",
    "\n",
    "### What are Objects?\n",
    "- Reference type\n",
    "- Instances of a class, which is a blueprint of an object\n",
    "\n",
    "### Creating Objects\n",
    "- Declaration: Object is declared as a variable\n",
    "- Instantiation: 'new' keyword used to create the object\n",
    "- Initialization: giving initial properties to the created object in the constructor\n",
    "```\n",
    "Painter myPainter = new Painter();\n",
    "```\n",
    "\n",
    "### Void Method\n",
    "- Do not return a value\n",
    "- Can change characteristics of an object, or print text to console\n",
    "\n",
    "### Non-Void Method\n",
    "- There is a return type\n",
    "\n",
    "```\n",
    "public int countPaint() {}\n",
    "```\n",
    "\n",
    "### String Objects\n",
    "- A string is an object, and can be acted upon by methods\n"
   ]
  }
 ],
 "metadata": {
  "kernelspec": {
   "display_name": "Java",
   "language": "java",
   "name": "java"
  },
  "language_info": {
   "codemirror_mode": "java",
   "file_extension": ".jshell",
   "mimetype": "text/x-java-source",
   "name": "Java",
   "pygments_lexer": "java",
   "version": "11.0.16+8-post-Ubuntu-0ubuntu120.04"
  },
  "orig_nbformat": 4
 },
 "nbformat": 4,
 "nbformat_minor": 2
}
