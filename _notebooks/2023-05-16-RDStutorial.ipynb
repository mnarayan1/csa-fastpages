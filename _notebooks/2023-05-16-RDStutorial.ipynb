{
 "cells": [
  {
   "attachments": {},
   "cell_type": "markdown",
   "metadata": {},
   "source": [
    "# RDS Tutorial\n",
    "> Setting up AWS RDS PostgreSQL Database and connecting with Spring Boot\n",
    "\n",
    "- layout: default\n",
    "- badges: false"
   ]
  },
  {
   "attachments": {},
   "cell_type": "markdown",
   "metadata": {},
   "source": [
    "# What is RDS? \n",
    "\n",
    "Simple Definition: Rather than having a database stored on a local file, the RDS database is stored on the cloud. \n",
    "\n",
    "## Further Research/More Information: \n",
    "- RDS: Relational Database Service\n",
    "   -  a web service provided by Amazon Web Services (AWS) that allows individuals to set up, operate, and scale a database while storing it in the cloud\n",
    "   -  RDS makes it easy to set up, operate, and scale a MySQL database instance in the case of AP Computer Science at Del Norte High Schools\n",
    "\n",
    "\n",
    "- By using RDS, individuals can offload the administrative tasks of database management\n",
    "   - examples: hardware provisioning, software patching, backups, and database scaling, to AW\n",
    "   - RDS takes care of the underlying infrastructure allowing more time to work on website features\n",
    "\n",
    "- Key Features and Benefits of RDS:\n",
    "   - Managed service: AWS manages the infrastructure, database setup, patching, and backups, reducing your administrative burden.\n",
    "   - Scalability: RDS allows you to scale your database instance up or down based on a users needs, which ensures efficiency\n",
    "   - Security: RDS provides built-in security features, such as encryption at rest and in transit, network isolation, and user access control\n",
    "   - Automated software patching: RDS can automatically apply patches and updates to the database software, reducing downtime and ensuring security.\n",
    "   - Stores information in the cloud instead of just locally --> can not be easily deleted and ruined\n",
    "\n",
    "\n",
    "- Overall Takeaway:\n",
    "   - RDS simplifies the process of deploying and managing relational databases, making it a popular choice for many organizations seeking a scalable and reliable database solution in the cloud\n",
    "\n",
    "## Even More Information\n",
    "- Follow these Youtube Links for More Information on RDS on AWS\n",
    "   - https://www.youtube.com/watch?v=GvUaA9cygUk\n",
    "   - https://www.youtube.com/watch?v=tLp8pPNdDXQ&pp=ygUHcmRzIGF3cw%3D%3D\n",
    "   - https://www.youtube.com/watch?v=vp_uulb5phM&pp=ygUHcmRzIGF3cw%3D%3D"
   ]
  }
 ],
 "metadata": {
  "kernelspec": {
   "display_name": "Python 3 (ipykernel)",
   "language": "python",
   "name": "python3"
  },
  "language_info": {
   "codemirror_mode": {
    "name": "ipython",
    "version": 3
   },
   "file_extension": ".py",
   "mimetype": "text/x-python",
   "name": "python",
   "nbconvert_exporter": "python",
   "pygments_lexer": "ipython3",
   "version": "3.9.12"
  }
 },
 "nbformat": 4,
 "nbformat_minor": 2
}
