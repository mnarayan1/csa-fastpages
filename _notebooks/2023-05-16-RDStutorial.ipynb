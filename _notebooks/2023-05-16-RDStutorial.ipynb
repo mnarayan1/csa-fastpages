{
 "cells": [
  {
   "attachments": {},
   "cell_type": "markdown",
   "metadata": {},
   "source": [
    "# RDS Tutorial\n",
    "> Setting up AWS RDS PostgreSQL Database and connecting with Spring Boot\n",
    "\n",
    "- layout: default\n",
    "- badges: false"
   ]
  },
  {
   "attachments": {},
   "cell_type": "markdown",
   "metadata": {},
   "source": [
    "# What is RDS? \n",
    "\n",
    "Simple Definition: Rather than having a database stored on a local file, the RDS database is stored on the cloud. \n",
    "\n",
    "## Further Research/More Information: \n",
    "- RDS: Relational Database Service\n",
    "   -  a web service provided by Amazon Web Services (AWS) that allows individuals to set up, operate, and scale a database while storing it in the cloud\n",
    "   -  RDS makes it easy to set up, operate, and scale a MySQL database instance in the case of AP Computer Science at Del Norte High Schools\n",
    "\n",
    "\n",
    "- By using RDS, individuals can offload the administrative tasks of database management\n",
    "   - examples: hardware provisioning, software patching, backups, and database scaling, to AW\n",
    "   - RDS takes care of the underlying infrastructure allowing more time to work on website features\n",
    "\n",
    "- Key Features and Benefits of RDS:\n",
    "   - Managed service: AWS manages the infrastructure, database setup, patching, and backups, reducing your administrative burden.\n",
    "   - Scalability: RDS allows you to scale your database instance up or down based on a users needs, which ensures efficiency\n",
    "   - Security: RDS provides built-in security features, such as encryption at rest and in transit, network isolation, and user access control\n",
    "   - Automated software patching: RDS can automatically apply patches and updates to the database software, reducing downtime and ensuring security.\n",
    "   - Stores information in the cloud instead of just locally --> can not be easily deleted and ruined\n",
    "\n",
    "\n",
    "- Overall Takeaway:\n",
    "   - RDS simplifies the process of deploying and managing relational databases, making it a popular choice for many organizations seeking a scalable and reliable database solution in the cloud\n",
    "\n",
    "## Even More Information\n",
    "- Follow these Youtube Links for More Information on RDS on AWS\n",
    "   - https://www.youtube.com/watch?v=GvUaA9cygUk\n",
    "   - https://www.youtube.com/watch?v=tLp8pPNdDXQ&pp=ygUHcmRzIGF3cw%3D%3D\n",
    "   - https://www.youtube.com/watch?v=vp_uulb5phM&pp=ygUHcmRzIGF3cw%3D%3D"
   ]
  },
  {
   "attachments": {},
   "cell_type": "markdown",
   "metadata": {},
   "source": [
    "# Step 1: Create an EC2 Instance\n",
    "\n",
    "Create an Amazon EC2 instance that you will use to connect to your database.\n",
    "\n",
    "*To create an EC2 instance*\n",
    "1. Sign in to the AWS Management Console and open the Amazon EC2 console at https://console.aws.amazon.com/ec2/.\n",
    "2. In the upper-right corner of the AWS Management Console, choose the AWS Region in which you want to create the EC2 instance.\n",
    "3. Choose EC2 Dashboard, and then choose Launch instance, as shown in the following image (The Launch an instance page opens)\n",
    "4. Choose the following settings on the Launch an instance page.\n",
    "   - Under Name and tags, for Name, enter ec2-database-connect.\n",
    "   - Under Application and OS Images (Amazon Machine Image), choose Amazon Linux, and then choose the Amazon Linux 2023 AMI. Keep the default selections for the other choices.)\n",
    "   - Under Instance type, choose t2.micro.\n",
    "   - Under Key pair (login), choose a Key pair name to use an existing key pair. To create a new key pair for the Amazon EC2 instance, choose *Create new key pair* and then use the *Create key pair* window to create it.\n",
    "   - For Allow SSH traffic in Network settings, choose the source of SSH connections to the EC2 instance.\n",
    "      - Note: You can choose My IP if the displayed IP address is correct for SSH connections. Otherwise, you can determine the IP address to use to connect to EC2 instances in your VPC using Secure Shell (SSH). To determine your public IP address, in a different browser window or tab, you can use the service at https://checkip.amazonaws.com. An example of an IP address is 192.0.2.1/32.\n",
    "      - In many cases, you might connect through an internet service provider (ISP) or from behind your firewall without a static IP address. If so, make sure to determine the range of IP addresses used by client computers.\n",
    "\n",
    "    - *WARNING*: If you use 0.0.0.0/0 for SSH access, you make it possible for all IP addresses to access your public EC2 instances using SSH. This approach is acceptable for a short time in a test environment, but it's unsafe for production environments. In production, authorize only a specific IP address or range of addresses to access your EC2 instances using SSH.\n",
    "\n",
    "    - Example for Network Settings Section:\n",
    "    insert image here\n",
    "\n",
    "    - Leave the default values for the remaining sections.\n",
    "    - Review a summary of your EC2 instance configuration in the *Summary* panel, and when you're ready, choose *Launch instance*.\n",
    "\n",
    "5. On the Launch Status page, note the identifier for your new EC2 instance, for example: i-1234567890abcdef0.\n",
    "insert image here\n",
    "\n",
    "6. Choose the EC2 instance identifier to open the list of EC2 instances, and then select your EC2 instance.\n",
    "\n",
    "7. In the *Details* tab, note the following values, which you need when you connect using SSH:\n",
    "   - In *Instance summary*, note the value for *Public IPv4 DNS*.\n",
    "   insert image here\n",
    "\n",
    "   - In *Instance details*, note the value for *Key pair name*.\n",
    "   insert image here\n",
    "\n",
    "8. Wait until the Instance state for your EC2 instance has a status of *Running* before continuing."
   ]
  }
 ],
 "metadata": {
  "kernelspec": {
   "display_name": "Python 3 (ipykernel)",
   "language": "python",
   "name": "python3"
  },
  "language_info": {
   "codemirror_mode": {
    "name": "ipython",
    "version": 3
   },
   "file_extension": ".py",
   "mimetype": "text/x-python",
   "name": "python",
   "nbconvert_exporter": "python",
   "pygments_lexer": "ipython3",
   "version": "3.9.12"
  }
 },
 "nbformat": 4,
 "nbformat_minor": 2
}
