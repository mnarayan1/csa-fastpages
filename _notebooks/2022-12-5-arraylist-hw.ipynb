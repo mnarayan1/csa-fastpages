{
 "cells": [
  {
   "cell_type": "markdown",
   "metadata": {},
   "source": [
    "# Unit 7 - ArrayList Homework\n",
    "> Important terms\n",
    "\n",
    "- toc: false \n",
    "- badges: true\n",
    "- comments: true\n",
    "- categories: [jupyter]"
   ]
  },
  {
   "cell_type": "code",
   "execution_count": 8,
   "metadata": {
    "vscode": {
     "languageId": "java"
    }
   },
   "outputs": [
    {
     "name": "stdout",
     "output_type": "stream",
     "text": [
      "hashCode before: 955456\n",
      "[1, 5, 2, 7]\n",
      "hasCode after: 32\n"
     ]
    }
   ],
   "source": [
    "ArrayList<Integer> number = new ArrayList<Integer>(); \n",
    "\n",
    "// add numbers to arraylist\n",
    "number.add(1);\n",
    "number.add(2);\n",
    "number.add(7);\n",
    "number.add(5);\n",
    "\n",
    "// find hashcode before being sorted\n",
    "System.out.println(\"hashCode before: \" + number.hashCode());\n",
    "\n",
    "// sort arraylist in reverse order, swap first and last elements\n",
    "Collections.sort(number, Collections.reverseOrder());\n",
    "Collections.swap(number, 0, 3);\n",
    "System.out.println(number);\n",
    "\n",
    "//find hashcode after being sorted\n",
    "System.out.println(\"hasCode after: \" + numbers.hashCode());"
   ]
  }
 ],
 "metadata": {
  "kernelspec": {
   "display_name": "Java",
   "language": "java",
   "name": "java"
  },
  "language_info": {
   "codemirror_mode": "java",
   "file_extension": ".jshell",
   "mimetype": "text/x-java-source",
   "name": "Java",
   "pygments_lexer": "java",
   "version": "11.0.16+8-post-Ubuntu-0ubuntu120.04"
  },
  "orig_nbformat": 4
 },
 "nbformat": 4,
 "nbformat_minor": 2
}
