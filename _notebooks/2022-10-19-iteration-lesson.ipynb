{
 "cells": [
  {
   "cell_type": "markdown",
   "metadata": {},
   "source": [
    "# Iteration lesson\n",
    "> Week 1 College Board Lessons\n",
    "\n",
    "- toc: false \n",
    "- badges: true\n",
    "- comments: true\n",
    "- categories: [jupyter]"
   ]
  },
  {
   "cell_type": "markdown",
   "metadata": {},
   "source": [
    "## Iterations Notes\n",
    "\n",
    "### 4.1 While Loops\n",
    "- Repeat code while boolean expression evaluates to true\n",
    "```\n",
    "while (condition) {\n",
    "    // code to run\n",
    "}\n",
    "```\n",
    "- While loops are useful to iterate over arrays\n",
    "```\n",
    "int[] array = {1, 2, 3, 4}\n",
    "int total = 0;\n",
    "int i = 9;\n",
    "\n",
    "while(i < array.length) {\n",
    "    total += array[i];\n",
    "    i++;\n",
    "}\n",
    "\n",
    "System.out.println(total);\n",
    "```\n",
    "- Infinite while loops run over and over again, since the condition is always true; useful for user input\n",
    "```\n",
    "while(true) {\n",
    "    System.out.println(\"Choose an option\");\n",
    "}\n",
    "```"
   ]
  },
  {
   "cell_type": "markdown",
   "metadata": {},
   "source": [
    "### Hacks\n",
    "\n",
    "Say you have a company that makes a profit of $5,450,000 this year. Every year, the company has a profit increase of 5%. Determine how many years it would take to make a profit of at least $30,000,000 using a while loop."
   ]
  },
  {
   "cell_type": "code",
   "execution_count": 2,
   "metadata": {},
   "outputs": [
    {
     "name": "stdout",
     "output_type": "stream",
     "text": [
      "35\n"
     ]
    }
   ],
   "source": [
    "public class WhileLoops {\n",
    "\n",
    "    public static void main(String[] args) {\n",
    "        int profit = 5450000;\n",
    "        int i = 0;\n",
    "\n",
    "        while(profit < 30000000) {\n",
    "            profit *= 1.05;\n",
    "            i++;\n",
    "        }\n",
    "        System.out.println(i);\n",
    "    }\n",
    "}\n",
    "\n",
    "WhileLoops.main(null);"
   ]
  },
  {
   "cell_type": "markdown",
   "metadata": {},
   "source": [
    "### 4.2 For Loops\n",
    "\n",
    "Three Parts of a For Loop\n",
    "- Initialize Variable\n",
    "- Test Condition\n",
    "- Change of variable\n",
    "```\n",
    "for(int x = 1; x<=5; x++) {\n",
    "    System.out.println(x);\n",
    "}\n",
    "```"
   ]
  },
  {
   "cell_type": "code",
   "execution_count": 5,
   "metadata": {},
   "outputs": [
    {
     "name": "stdout",
     "output_type": "stream",
     "text": [
      "10\n",
      "11\n",
      "12\n",
      "13\n",
      "14\n",
      "15\n",
      "274\n",
      "275\n",
      "276\n",
      "277\n",
      "278\n",
      "279\n",
      "280\n",
      "281\n",
      "282\n",
      "283\n"
     ]
    }
   ],
   "source": [
    "public class ForLoops {\n",
    "    \n",
    "    public static void main(String[] args) {\n",
    "        for(int i = 10; i<= 15; i++) {\n",
    "            System.out.println(i);\n",
    "        }\n",
    "\n",
    "        int[] temperatures = {1, 2, 3, 4, 5, 6, 7, 8, 9, 10};\n",
    "\n",
    "        for(int i = 0; i<temperatures.length; i++) {\n",
    "            System.out.println(temperatures[i] + 273);\n",
    "        }\n",
    "    }\n",
    "}\n",
    "\n",
    "ForLoops.main(null);"
   ]
  },
  {
   "cell_type": "markdown",
   "metadata": {},
   "source": [
    "### 4.3 Loops and Strings\n",
    "\n",
    "Strings can be iterated over. \n",
    "\n",
    "```\n",
    "String name = \"CodeCodeCode\";\n",
    "\n",
    "for (int i = 0; i < name.length(); i+=2) {\n",
    "    System.out.println(name.substring(i,i+2));\n",
    "}\n",
    "```\n",
    "\n",
    "### 4.4 Nested Iteration\n",
    "- Loop within a loop, typically used for two-dimensional values (ie. iteratue over pixels in an image)\n"
   ]
  },
  {
   "cell_type": "markdown",
   "metadata": {},
   "source": [
    "### For Each Loops\n",
    "- Iterates through elements of arrays and collections (ArrayList)\n",
    "\n",
    "```\n",
    "for(dataType item : array) {\n",
    "    // code here\n",
    "}\n",
    "```"
   ]
  },
  {
   "cell_type": "code",
   "execution_count": 7,
   "metadata": {},
   "outputs": [
    {
     "name": "stdout",
     "output_type": "stream",
     "text": [
      "2\n",
      "10\n",
      "5\n",
      "12\n"
     ]
    }
   ],
   "source": [
    "public class ForEachLoops {\n",
    "    public static void main(String[] args) {\n",
    "        int[] data = {2, 10, 5, 12};\n",
    "\n",
    "        for(int number: data) {\n",
    "            System.out.println(number);\n",
    "        }\n",
    "    } \n",
    "}\n",
    "\n",
    "ForEachLoops.main(null);"
   ]
  },
  {
   "cell_type": "markdown",
   "metadata": {},
   "source": [
    "### Hacks"
   ]
  },
  {
   "cell_type": "code",
   "execution_count": 11,
   "metadata": {},
   "outputs": [
    {
     "name": "stdout",
     "output_type": "stream",
     "text": [
      "26\n"
     ]
    }
   ],
   "source": [
    "int numbers[] = {2, 5, 7, 12};\n",
    "int total = 0;\n",
    "\n",
    "for(int number: numbers) {\n",
    "    total += number;\n",
    "}\n",
    "\n",
    "System.out.println(total);"
   ]
  },
  {
   "cell_type": "code",
   "execution_count": null,
   "metadata": {},
   "outputs": [],
   "source": [
    "public class CaesarCipher {\n",
    "    String[] letters = {\"a\", \"b\", \"c\", \"d\", \"e\", \"f\", \"g\", \"h\", \"i\", \"j\", \"k\", \"l\", \"m\", \"n\", \"o\", \"p\", \"q\", \"r\", \"s\", \"t\", \"u\", \"v\", \"w\", \"x\", \"y\", \"z\"};\n",
    "\n",
    "    public String cipher(String message) {\n",
    "        String encodedMessage = \"\";\n",
    "        for(int i = 0; i<= message.length; i++) {\n",
    "            int newLetter = ArrayUntils.indexOf(letters, message[i]);\n",
    "        }\n",
    "    }\n",
    "\n",
    "    public static void main(String[] args) {\n",
    "\n",
    "        String message1 = \"Kfzb gly!\";\n",
    "        String message2 = \"zlab zlab zlab\";\n",
    "        String message3 = \"prmbozxifcoxdfifpqfzbumfxifalzflrp\";\n",
    "\n",
    "    }\n",
    "}\n",
    "\n",
    "CaesarCipher.main(null);"
   ]
  }
 ],
 "metadata": {
  "kernelspec": {
   "display_name": "Java",
   "language": "java",
   "name": "java"
  },
  "language_info": {
   "codemirror_mode": "java",
   "file_extension": ".jshell",
   "mimetype": "text/x-java-source",
   "name": "java",
   "pygments_lexer": "java",
   "version": "11.0.16+8-post-Ubuntu-0ubuntu120.04"
  },
  "orig_nbformat": 4
 },
 "nbformat": 4,
 "nbformat_minor": 2
}
