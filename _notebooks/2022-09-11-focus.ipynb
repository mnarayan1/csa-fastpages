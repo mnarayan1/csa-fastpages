{
 "cells": [
  {
   "cell_type": "markdown",
   "metadata": {},
   "source": [
    "# Focus and Habits\n",
    "> Notes on Psychology and the Good Life \n",
    "\n",
    "- toc: false \n",
    "- badges: true\n",
    "- comments: true\n",
    "- categories: [jupyter]"
   ]
  },
  {
   "cell_type": "markdown",
   "metadata": {},
   "source": [
    "Here are my takeaways from Proefessor Laurie Santos's lecture on [Psychology and the Good Life](https://www.youtube.com/watch?v=ZizdB0TgAVM&ab_channel=TheAspenInstitute). \n",
    "\n",
    "1. **GI Joe Fallacy**: knowing is not half the battle, and knowledge must be acted upon\n",
    "    - the journey to happiness requires a long term commitment, not just knowledge\n",
    "2. Our mind fools us that a higher salary will make us happier, but research shows us that this is not the truth. \n",
    "    - happiness increases after you make above the poverty line, but **after $75,000, there is no significant increase in happiness**\n",
    "    - people who seek out material goods are not happy\n",
    "3. Very happy people spend more time **making social connections**, and spend less time alone\n",
    "4. Happy people **spend their time and money on others**.\n",
    "5. Focus on the positives in my life instead of the negatives\n",
    "6. Make time for staying healthy (sleep, exercise, food)\n",
    "7. **Be in the present**, don't mind-wander!"
   ]
  },
  {
   "cell_type": "markdown",
   "metadata": {},
   "source": [
    "## Gratitude List\n",
    "- The opportunities I have\n",
    "- My education\n",
    "- Access to good infrastructure"
   ]
  },
  {
   "cell_type": "markdown",
   "metadata": {},
   "source": [
    "## Goals\n",
    "- Spend more time with my friends and family\n",
    "- Make time for gratitude every day\n",
    "- Tell people I am grateful for them\n",
    "- Pay attention to my surroundings and stay in the moment"
   ]
  }
 ],
 "metadata": {
  "kernelspec": {
   "display_name": "Java",
   "language": "java",
   "name": "java"
  },
  "language_info": {
   "codemirror_mode": "java",
   "file_extension": ".jshell",
   "mimetype": "text/x-java-source",
   "name": "java",
   "pygments_lexer": "java",
   "version": "11.0.16+8-post-Ubuntu-0ubuntu120.04"
  },
  "orig_nbformat": 4
 },
 "nbformat": 4,
 "nbformat_minor": 2
}
