{
 "cells": [
  {
   "cell_type": "markdown",
   "metadata": {},
   "source": [
    "# Fibonacci\n",
    "> Multiple implementations of Fibonacci algorithm\n",
    "\n",
    "- toc: false \n",
    "- badges: true\n",
    "- comments: true\n",
    "- categories: [jupyter]"
   ]
  },
  {
   "cell_type": "markdown",
   "metadata": {},
   "source": [
    "## For Loops"
   ]
  },
  {
   "cell_type": "code",
   "execution_count": 10,
   "metadata": {
    "vscode": {
     "languageId": "java"
    }
   },
   "outputs": [
    {
     "name": "stdout",
     "output_type": "stream",
     "text": [
      "How many terms do you want to generate? (greater than 2)\n",
      "8\n",
      "[0, 1, 1, 2, 3, 5, 8, 13]\n"
     ]
    }
   ],
   "source": [
    "class Fibonacci {\n",
    "    ArrayList<Integer> sequence;\n",
    "    int steps;\n",
    "\n",
    "    public Fibonacci() {\n",
    "        sequence = new ArrayList<Integer>();\n",
    "        sequence.add(0);\n",
    "        sequence.add(1);   \n",
    "        this.getInput();\n",
    "        this.generateSequence();\n",
    "    }\n",
    "    \n",
    "\n",
    "    public void getInput() {\n",
    "        Scanner input = new Scanner(System.in);\n",
    "        \n",
    "        System.out.println(\"How many terms do you want to generate? (greater than 2)\");\n",
    "        steps = input.nextInt();\n",
    "        System.out.println(steps);\n",
    "    }\n",
    "\n",
    "    public void generateSequence() {\n",
    "        for(int i = 2; i<steps; i++) {\n",
    "            sequence.add(sequence.get(i-2) + sequence.get(i-1));\n",
    "        }\n",
    "        System.out.println(sequence);\n",
    "    }\n",
    "    \n",
    "    public static void main(String[] args)  {\n",
    "        new Fibonacci();\n",
    "    }\n",
    "}\n",
    "\n",
    "Fibonacci.main(null);\n"
   ]
  },
  {
   "cell_type": "markdown",
   "metadata": {},
   "source": [
    "## While Loop"
   ]
  },
  {
   "cell_type": "code",
   "execution_count": 11,
   "metadata": {
    "vscode": {
     "languageId": "java"
    }
   },
   "outputs": [
    {
     "name": "stdout",
     "output_type": "stream",
     "text": [
      "How many terms do you want to generate? (greater than 2)\n",
      "8\n",
      "[0, 1, 1, 2, 3, 5, 8, 13]\n"
     ]
    }
   ],
   "source": [
    "class Fibonacci {\n",
    "    ArrayList<Integer> sequence;\n",
    "    int steps;\n",
    "\n",
    "    public Fibonacci() {\n",
    "        sequence = new ArrayList<Integer>();\n",
    "        sequence.add(0);\n",
    "        sequence.add(1);   \n",
    "        this.getInput();\n",
    "        this.generateSequence();\n",
    "    }\n",
    "    \n",
    "\n",
    "    public void getInput() {\n",
    "        Scanner input = new Scanner(System.in);\n",
    "        \n",
    "        System.out.println(\"How many terms do you want to generate? (greater than 2)\");\n",
    "        steps = input.nextInt();\n",
    "        System.out.println(steps);\n",
    "    }\n",
    "\n",
    "    public void generateSequence() {\n",
    "        int i = 2;\n",
    "        while(i<steps) {\n",
    "            sequence.add(sequence.get(i-2) + sequence.get(i-1));\n",
    "            i++;\n",
    "        }\n",
    "        System.out.println(sequence);\n",
    "    }\n",
    "    \n",
    "    public static void main(String[] args)  {\n",
    "        new Fibonacci();\n",
    "    }\n",
    "}\n",
    "\n",
    "Fibonacci.main(null);\n"
   ]
  },
  {
   "cell_type": "markdown",
   "metadata": {},
   "source": [
    "## Recursion"
   ]
  },
  {
   "cell_type": "code",
   "execution_count": 22,
   "metadata": {
    "vscode": {
     "languageId": "java"
    }
   },
   "outputs": [
    {
     "name": "stdout",
     "output_type": "stream",
     "text": [
      "How many terms do you want to generate? (greater than 2)\n",
      "8\n",
      "[0, 1, 1, 2, 3, 5, 8, 13]\n"
     ]
    }
   ],
   "source": [
    "class Fibonacci {\n",
    "  ArrayList<Integer> sequence;\n",
    "  int steps;\n",
    "\n",
    "  public Fibonacci() {\n",
    "      sequence = new ArrayList<Integer>();\n",
    "      sequence.add(0);\n",
    "      sequence.add(1);   \n",
    "      this.getInput();\n",
    "      this.generateSequence();\n",
    "  }\n",
    "  \n",
    "\n",
    "  public void getInput() {\n",
    "      Scanner input = new Scanner(System.in);\n",
    "      \n",
    "      System.out.println(\"How many terms do you want to generate? (greater than 2)\");\n",
    "      steps = input.nextInt();\n",
    "      System.out.println(steps);\n",
    "  }\n",
    "\n",
    "  // recursive method to generate term i of fibonacci sequence\n",
    "  public int generateTerm(int i) {\n",
    "      if(i<=1) {\n",
    "        return i;\n",
    "      }\n",
    "      return generateTerm(i-2) + generateTerm(i-1);\n",
    "  }\n",
    "\n",
    "  // adds terms of fibonacci to sequence\n",
    "  public void generateSequence() {\n",
    "    for(int i = 2; i<steps; i++) {\n",
    "        sequence.add(this.generateTerm(i));\n",
    "    }\n",
    "    System.out.println(sequence);\n",
    "  }\n",
    "  \n",
    "  public static void main(String[] args)  {\n",
    "      new Fibonacci();\n",
    "  }\n",
    "}\n",
    "\n",
    "Fibonacci.main(null);"
   ]
  }
 ],
 "metadata": {
  "kernelspec": {
   "display_name": "Java",
   "language": "java",
   "name": "java"
  },
  "language_info": {
   "codemirror_mode": "java",
   "file_extension": ".jshell",
   "mimetype": "text/x-java-source",
   "name": "Java",
   "pygments_lexer": "java",
   "version": "11.0.16+8-post-Ubuntu-0ubuntu120.04"
  },
  "orig_nbformat": 4
 },
 "nbformat": 4,
 "nbformat_minor": 2
}
