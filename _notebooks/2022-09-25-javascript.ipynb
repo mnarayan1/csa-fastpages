{
 "cells": [
  {
   "cell_type": "markdown",
   "metadata": {},
   "source": [
    "# JavaScript\n",
    "> Overview of JavaScript and frontend programming\n",
    "\n",
    "- toc: false \n",
    "- badges: true\n",
    "- comments: true\n",
    "- categories: [jupyter]"
   ]
  },
  {
   "cell_type": "markdown",
   "metadata": {},
   "source": [
    "## Basic Syntax"
   ]
  },
  {
   "cell_type": "code",
   "execution_count": 1,
   "metadata": {},
   "outputs": [
    {
     "name": "stdout",
     "output_type": "stream",
     "text": [
      "Hello World!\n",
      "Hello from a function!\n"
     ]
    }
   ],
   "source": [
    "// define variable\n",
    "const hello = \"Hello World!\";\n",
    "\n",
    "//console.log to print output to console (in dev tools)\n",
    "console.log(hello);\n",
    "\n",
    "// defining a function\n",
    "function printMessage(message) {\n",
    "    console.log(message);\n",
    "}\n",
    "\n",
    "// calling a function\n",
    "printMessage(\"Hello from a function!\");"
   ]
  },
  {
   "cell_type": "markdown",
   "metadata": {},
   "source": [
    "## Creating objects"
   ]
  },
  {
   "cell_type": "code",
   "execution_count": 1,
   "metadata": {},
   "outputs": [
    {
     "name": "stdout",
     "output_type": "stream",
     "text": [
      "[ Person { name: 'Mads', role: 'deployment' },\n",
      "  Person { name: 'Meens', role: 'backend' },\n",
      "  Person { name: 'Prans', role: 'scrum master' },\n",
      "  Person { name: 'Shish', role: 'frontend' } ]\n"
     ]
    }
   ],
   "source": [
    "// function to create data for person (from https://nighthawkcoders.github.io/APCSA//techtalk/javascript)\n",
    "function Person(name, role) {\n",
    "    this.name = name;\n",
    "    this.role = role;\n",
    "}\n",
    "\n",
    "const womenInStem = [\n",
    "    new Person(\"Mads\", \"deployment\"),\n",
    "    new Person(\"Meens\", \"backend\"),\n",
    "    new Person(\"Prans\", \"scrum master\"),\n",
    "    new Person(\"Shish\", \"frontend\")\n",
    "]\n",
    "\n",
    "console.log(womenInStem)"
   ]
  },
  {
   "cell_type": "markdown",
   "metadata": {},
   "source": [
    "## Project Prototype\n",
    "\n",
    "Create HTML page for basic commerce site. "
   ]
  },
  {
   "cell_type": "code",
   "execution_count": 1,
   "metadata": {},
   "outputs": [
    {
     "name": "stdout",
     "output_type": "stream",
     "text": [
      "\n",
      "    <tr>\n",
      "        <td>TINspire Calculator</td>\n",
      "        <td>70.00</td>\n",
      "        <td>test@test.com</td>\n",
      "    </tr>\n",
      "    \n",
      "\n",
      "    <tr>\n",
      "        <td>New PE Lock</td>\n",
      "        <td>5.00</td>\n",
      "        <td>1-800-YOUR-NUMBER</td>\n",
      "    </tr>\n",
      "    \n",
      "\n",
      "    <tr>\n",
      "        <td>AP Bio Prep Book</td>\n",
      "        <td>15,00</td>\n",
      "        <td>test@test.com</td>\n",
      "    </tr>\n",
      "    \n"
     ]
    }
   ],
   "source": [
    "// create object for listing\n",
    "function Listing(name, price, contactInfo) {\n",
    "    this.name = name;\n",
    "    this.price = price;\n",
    "    this.contactInfo = contactInfo;\n",
    "}\n",
    "\n",
    "const data = [\n",
    "    new Listing(\"TINspire Calculator\", \"70.00\", \"test@test.com\"),\n",
    "    new Listing(\"New PE Lock\", \"5.00\", \"1-800-YOUR-NUMBER\"),\n",
    "    new Listing(\"AP Bio Prep Book\", \"15,00\", \"test@test.com\")\n",
    "]\n",
    "\n",
    "// return table row for each listing that can be added to html\n",
    "for (const row of data) { \n",
    "    const name = row.name;\n",
    "    const price = row.price;\n",
    "    const contactInfo = row.contactInfo;\n",
    "    console.log(`\n",
    "    <tr>\n",
    "        <td>${name}</td>\n",
    "        <td>${price}</td>\n",
    "        <td>${contactInfo}</td>\n",
    "    </tr>\n",
    "    `)\n",
    " }"
   ]
  }
 ],
 "metadata": {
  "kernelspec": {
   "display_name": "JavaScript (Node.js)",
   "language": "javascript",
   "name": "javascript"
  },
  "language_info": {
   "file_extension": ".js",
   "mimetype": "application/javascript",
   "name": "javascript",
   "version": "6.11.2"
  },
  "orig_nbformat": 4,
  "vscode": {
   "interpreter": {
    "hash": "916dbcbb3f70747c44a77c7bcd40155683ae19c65e1c03b4aa3499c5328201f1"
   }
  }
 },
 "nbformat": 4,
 "nbformat_minor": 2
}
