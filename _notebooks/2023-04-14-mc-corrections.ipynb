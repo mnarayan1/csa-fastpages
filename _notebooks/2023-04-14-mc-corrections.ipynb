{
 "cells": [
  {
   "attachments": {},
   "cell_type": "markdown",
   "metadata": {},
   "source": [
    "# 2020 MC Corrections\n",
    "> Review for AP Exam\n",
    "\n",
    "- toc: true \n",
    "- badges: true\n",
    "- comments: true\n",
    "- categories: [jupyter]"
   ]
  },
  {
   "attachments": {},
   "cell_type": "markdown",
   "metadata": {},
   "source": [
    "# Topics to work on\n",
    "- static keyword\n",
    "- super, inheritance\n",
    "- casting, integer division\n",
    "- using truth tables\n",
    "- using .substring and .index of (string methods?)\n",
    "- recursion\n",
    "- ArrayLists, and how removing elements affects traversal"
   ]
  },
  {
   "attachments": {},
   "cell_type": "markdown",
   "metadata": {},
   "source": [
    "**Q3 hours to travel**\n",
    "``double hours = (double) (Math.abs(marker1 - marker2)/60);`` is incorrect, because hours is casted to a double too late. ``/60`` does integer division. The correct answer is ``double hours = Math.abs(marker1 - marker2)/60.0;``\n",
    "\n",
    "**Q5 new Bird constructors**\n",
    "``E`` is incorrect because it has the same signature as the existing constructor, causing a compiler error. \n",
    "\n",
    "**Q6 Cast to double**\n",
    "Casting integer division will not result in a double ``(double) 2/4 + 3`` is correct because it casts 2 to a double, then performs floating point division. \n",
    "\n",
    "**Q7 if and compound boolean equivalence**\n",
    "b1 is true if it between 0 and 100 exclusive, or if it is less than -100. This is what ``E`` assigns to b2. \n",
    "\n",
    "**Q10 printSome method**\n",
    "``printSome(20,5)`` is correct, because 10 is divisibly by 5 and in the range from 0 to 19. \n",
    "\n",
    "**Q12 Book class**\n",
    "If no Person object has been assigned to borroer, ``.getName()`` throws NullPointerException. ``borrower != null`` is the only option that contains a reference to an object. \n",
    "\n",
    "**Q14 zip code categories**\n",
    "``II`` is incorrect becuse it uses one-way selection statements, and will always return rural. ``III`` also works because it will return to correct value immediately, even if it has one-way selection statements. \n",
    "\n",
    "**Q18 countPeaks method**\n",
    "``int p = 1; p < data.length - 1; p++`` is the correct answer. We start at index 1 to look for the first local maximum, and the last candidate is data.length - 2 (next to last element). \n",
    "\n",
    "**Q21 strArrMethod - first day of spring**\n",
    "The method assigns the shortest string between arr[n] and arr[arr.length - 1] to result[n]. The shortest string is \"of\", so it will be assigned to every element, except for the last element. \n",
    "\n",
    "**Q22 strArrMethod - last day of the school year**\n",
    "Line 12 is executed each time sm is updated because a new smallest value is found. This happens 2 times (last, day, the, school)\n",
    "\n",
    "**Q24 increment value in SomeClass**\n",
    "Since y is declared as a static variable, it is associated with the class and *all objects of the class share the single variable y*.  y is equal to three when all of the classes are initialized. It is then incremented by 1. It is then incremented by 10. When ``getY`` is classed on the third object, it is 14. \n",
    "\n",
    "**Q26 code segments print A and B**\n",
    "There are m * n iterations of the for loop in segment I. In Segment II, there are m * (n-1). Thus, A is printed m more times than B. \n",
    "\n",
    "**Q27 conditions for Boolean expression**\n",
    "Use a truth table. ``(a && b) || (!a && b);`` evaluates to false when b is false. \n",
    "\n",
    "**Q28 sing the song**\n",
    "``abMethod`` sets x to the index of an occurrence of b in a, then assignes the result of the concatenation of the parts of a before an after the occurrence of b. Thus, it removes all non-overlapping occrrences of string b from string a. \n",
    "\n",
    "**Q28 calcMethod**\n",
    "``calcMethod(16)`` returns 16 + 8 + 4 + 2 + 1 + 10 = 41. Make sure to include the end case. \n",
    "\n",
    "**Q31 count negative values**\n",
    "III does not work because the variable i represents an element of the array rather than an index. \n",
    "\n",
    "**Q34 remove some ArrayList elements**\n",
    "The method skips some lemenets of numList during traversal. When element at position i is removed from the numList, subsequent elements are shifted left. \n",
    "\n",
    "**Q38 sum of ArrayList values**\n",
    "II is correct, because it uses an enhanced for loop to traverse the valueList array. \n",
    "\n",
    "**Q39 recursive String method**\n",
    "Recursion. \n",
    "\n",
    "**Q40 remove a method**\n",
    "The statement in line 3 will cause a compiler error because the message method for obj1 cannot be found. Methods in or inherited by the declared type must work. "
   ]
  }
 ],
 "metadata": {
  "kernelspec": {
   "display_name": "Java",
   "language": "java",
   "name": "java"
  },
  "language_info": {
   "codemirror_mode": "java",
   "file_extension": ".jshell",
   "mimetype": "text/x-java-source",
   "name": "java",
   "pygments_lexer": "java",
   "version": "11.0.16+8-post-Ubuntu-0ubuntu120.04"
  },
  "orig_nbformat": 4
 },
 "nbformat": 4,
 "nbformat_minor": 2
}
